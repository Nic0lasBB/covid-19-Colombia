{
 "cells": [
  {
   "cell_type": "markdown",
   "metadata": {},
   "source": [
    "Librerias"
   ]
  },
  {
   "cell_type": "code",
   "execution_count": 4,
   "metadata": {},
   "outputs": [],
   "source": [
    "import numpy as np\n",
    "import pandas as pd\n",
    "import matplotlib.pyplot as plt\n",
    "from matplotlib import rc\n",
    "\n",
    "import requests\n",
    "import unidecode\n",
    "import datetime\n",
    "import dateutil\n",
    "import subprocess\n",
    "import sys\n",
    "import json\n",
    "import tempfile\n",
    "import os"
   ]
  },
  {
   "cell_type": "markdown",
   "metadata": {},
   "source": [
    "### importacion y limpieza de datos covid19 para Colombia "
   ]
  },
  {
   "cell_type": "code",
   "execution_count": 6,
   "metadata": {},
   "outputs": [],
   "source": [
    "# Input data files are available in the \"../input/\" directory.\n",
    "INPUT_DIR = './'\n",
    "if os.path.split(os.path.abspath('.'))[-1] == 'src':\n",
    "    INPUT_DIR = '../input'\n",
    "# Any results you write to the current directory are saved as output.\n",
    "OUTPUT_DIR = './'\n",
    "if os.path.split(os.path.abspath('.'))[-1] == 'src':\n",
    "    OUTPUT_DIR = '../output'"
   ]
  },
  {
   "cell_type": "code",
   "execution_count": 7,
   "metadata": {},
   "outputs": [],
   "source": [
    "# Official Daily Report Until Now\n",
    "URL_DATASET = 'https://www.datos.gov.co/api/views/gt2j-8ykr/rows.csv?accessType=DOWNLOAD'\n",
    "# Official Daily Samples Processed\n",
    "URL_SAMPLES_PROCESSED = 'https://e.infogram.com/api/live/flex/638d656c-c77b-4326-97d3-e50cb410c6ab/8188140c-8352-4994-85e3-2100a4dbd9db?'\n",
    "# Official Google Mobility\n",
    "URL_GOOGLE_MOBILITY='https://www.gstatic.com/covid19/mobility/Global_Mobility_Report.csv'"
   ]
  },
  {
   "cell_type": "markdown",
   "metadata": {},
   "source": [
    "#### Datos Casos Reportados Covid19"
   ]
  },
  {
   "cell_type": "code",
   "execution_count": 111,
   "metadata": {},
   "outputs": [
    {
     "data": {
      "text/plain": [
       "(7285, 16)"
      ]
     },
     "execution_count": 111,
     "metadata": {},
     "output_type": "execute_result"
    }
   ],
   "source": [
    "# Official Daily Report Until Now\n",
    "with requests.get(URL_DATASET) as official_dataset:\n",
    "    open(os.path.join(INPUT_DIR, 'covid19co_official.csv'), 'wb').write(official_dataset.content)\n",
    "covid19co = pd.read_csv(os.path.join(INPUT_DIR, 'covid19co_official.csv'))\n",
    "covid19co.shape"
   ]
  },
  {
   "cell_type": "code",
   "execution_count": 112,
   "metadata": {},
   "outputs": [
    {
     "data": {
      "text/html": [
       "<div>\n",
       "<style scoped>\n",
       "    .dataframe tbody tr th:only-of-type {\n",
       "        vertical-align: middle;\n",
       "    }\n",
       "\n",
       "    .dataframe tbody tr th {\n",
       "        vertical-align: top;\n",
       "    }\n",
       "\n",
       "    .dataframe thead th {\n",
       "        text-align: right;\n",
       "    }\n",
       "</style>\n",
       "<table border=\"1\" class=\"dataframe\">\n",
       "  <thead>\n",
       "    <tr style=\"text-align: right;\">\n",
       "      <th></th>\n",
       "      <th>ID de caso</th>\n",
       "      <th>Fecha de notificación</th>\n",
       "      <th>Codigo DIVIPOLA</th>\n",
       "      <th>Ciudad de ubicación</th>\n",
       "      <th>Departamento o Distrito</th>\n",
       "      <th>atención</th>\n",
       "      <th>Edad</th>\n",
       "      <th>Sexo</th>\n",
       "      <th>Tipo</th>\n",
       "      <th>Estado</th>\n",
       "      <th>País de procedencia</th>\n",
       "      <th>FIS</th>\n",
       "      <th>Fecha de muerte</th>\n",
       "      <th>Fecha diagnostico</th>\n",
       "      <th>Fecha recuperado</th>\n",
       "      <th>fecha reporte web</th>\n",
       "    </tr>\n",
       "  </thead>\n",
       "  <tbody>\n",
       "    <tr>\n",
       "      <th>3652</th>\n",
       "      <td>3653</td>\n",
       "      <td>2020-04-13T00:00:00.000</td>\n",
       "      <td>76001</td>\n",
       "      <td>Cali</td>\n",
       "      <td>Valle del Cauca</td>\n",
       "      <td>Casa</td>\n",
       "      <td>26</td>\n",
       "      <td>M</td>\n",
       "      <td>En estudio</td>\n",
       "      <td>Leve</td>\n",
       "      <td>Colombia</td>\n",
       "      <td>2020-04-09T00:00:00.000</td>\n",
       "      <td>-   -</td>\n",
       "      <td>2020-04-19T00:00:00.000</td>\n",
       "      <td>-   -</td>\n",
       "      <td>2020-04-19T00:00:00.000</td>\n",
       "    </tr>\n",
       "    <tr>\n",
       "      <th>3236</th>\n",
       "      <td>3237</td>\n",
       "      <td>2020-04-07T00:00:00.000</td>\n",
       "      <td>66001</td>\n",
       "      <td>Pereira</td>\n",
       "      <td>Risaralda</td>\n",
       "      <td>Recuperado</td>\n",
       "      <td>78</td>\n",
       "      <td>M</td>\n",
       "      <td>Importado</td>\n",
       "      <td>Leve</td>\n",
       "      <td>Estados Unidos de América</td>\n",
       "      <td>2020-03-18T00:00:00.000</td>\n",
       "      <td>-   -</td>\n",
       "      <td>2020-04-17T00:00:00.000</td>\n",
       "      <td>2020-04-09T00:00:00.000</td>\n",
       "      <td>2020-04-17T00:00:00.000</td>\n",
       "    </tr>\n",
       "    <tr>\n",
       "      <th>3954</th>\n",
       "      <td>3955</td>\n",
       "      <td>2020-04-13T00:00:00.000</td>\n",
       "      <td>25754</td>\n",
       "      <td>Soacha</td>\n",
       "      <td>Cundinamarca</td>\n",
       "      <td>Casa</td>\n",
       "      <td>34</td>\n",
       "      <td>F</td>\n",
       "      <td>En estudio</td>\n",
       "      <td>Leve</td>\n",
       "      <td>Colombia</td>\n",
       "      <td>2020-04-06T00:00:00.000</td>\n",
       "      <td>-   -</td>\n",
       "      <td>2020-04-20T00:00:00.000</td>\n",
       "      <td>-   -</td>\n",
       "      <td>2020-04-20T00:00:00.000</td>\n",
       "    </tr>\n",
       "    <tr>\n",
       "      <th>6098</th>\n",
       "      <td>6099</td>\n",
       "      <td>2020-04-26T00:00:00.000</td>\n",
       "      <td>11001</td>\n",
       "      <td>Bogotá D.C.</td>\n",
       "      <td>Bogotá D.C.</td>\n",
       "      <td>Casa</td>\n",
       "      <td>61</td>\n",
       "      <td>M</td>\n",
       "      <td>En estudio</td>\n",
       "      <td>Leve</td>\n",
       "      <td>Colombia</td>\n",
       "      <td>2020-04-26T00:00:00.000</td>\n",
       "      <td>-   -</td>\n",
       "      <td>2020-04-29T00:00:00.000</td>\n",
       "      <td>-   -</td>\n",
       "      <td>2020-04-29T00:00:00.000</td>\n",
       "    </tr>\n",
       "    <tr>\n",
       "      <th>5041</th>\n",
       "      <td>5042</td>\n",
       "      <td>2020-04-19T00:00:00.000</td>\n",
       "      <td>66001</td>\n",
       "      <td>Pereira</td>\n",
       "      <td>Risaralda</td>\n",
       "      <td>Casa</td>\n",
       "      <td>30</td>\n",
       "      <td>M</td>\n",
       "      <td>En estudio</td>\n",
       "      <td>Leve</td>\n",
       "      <td>Colombia</td>\n",
       "      <td>2020-04-19T00:00:00.000</td>\n",
       "      <td>-   -</td>\n",
       "      <td>2020-04-25T00:00:00.000</td>\n",
       "      <td>-   -</td>\n",
       "      <td>2020-04-25T00:00:00.000</td>\n",
       "    </tr>\n",
       "  </tbody>\n",
       "</table>\n",
       "</div>"
      ],
      "text/plain": [
       "      ID de caso    Fecha de notificación  Codigo DIVIPOLA  \\\n",
       "3652        3653  2020-04-13T00:00:00.000            76001   \n",
       "3236        3237  2020-04-07T00:00:00.000            66001   \n",
       "3954        3955  2020-04-13T00:00:00.000            25754   \n",
       "6098        6099  2020-04-26T00:00:00.000            11001   \n",
       "5041        5042  2020-04-19T00:00:00.000            66001   \n",
       "\n",
       "     Ciudad de ubicación Departamento o Distrito     atención  Edad Sexo  \\\n",
       "3652                Cali          Valle del Cauca        Casa    26    M   \n",
       "3236             Pereira                Risaralda  Recuperado    78    M   \n",
       "3954              Soacha             Cundinamarca        Casa    34    F   \n",
       "6098         Bogotá D.C.              Bogotá D.C.        Casa    61    M   \n",
       "5041             Pereira                Risaralda        Casa    30    M   \n",
       "\n",
       "            Tipo Estado        País de procedencia                      FIS  \\\n",
       "3652  En estudio   Leve                   Colombia  2020-04-09T00:00:00.000   \n",
       "3236   Importado   Leve  Estados Unidos de América  2020-03-18T00:00:00.000   \n",
       "3954  En estudio   Leve                   Colombia  2020-04-06T00:00:00.000   \n",
       "6098  En estudio   Leve                   Colombia  2020-04-26T00:00:00.000   \n",
       "5041  En estudio   Leve                   Colombia  2020-04-19T00:00:00.000   \n",
       "\n",
       "     Fecha de muerte        Fecha diagnostico         Fecha recuperado  \\\n",
       "3652           -   -  2020-04-19T00:00:00.000                    -   -   \n",
       "3236           -   -  2020-04-17T00:00:00.000  2020-04-09T00:00:00.000   \n",
       "3954           -   -  2020-04-20T00:00:00.000                    -   -   \n",
       "6098           -   -  2020-04-29T00:00:00.000                    -   -   \n",
       "5041           -   -  2020-04-25T00:00:00.000                    -   -   \n",
       "\n",
       "            fecha reporte web  \n",
       "3652  2020-04-19T00:00:00.000  \n",
       "3236  2020-04-17T00:00:00.000  \n",
       "3954  2020-04-20T00:00:00.000  \n",
       "6098  2020-04-29T00:00:00.000  \n",
       "5041  2020-04-25T00:00:00.000  "
      ]
     },
     "execution_count": 112,
     "metadata": {},
     "output_type": "execute_result"
    }
   ],
   "source": [
    "covid19co.sample(n=5)"
   ]
  },
  {
   "cell_type": "markdown",
   "metadata": {},
   "source": [
    "Columns Covid-19 Colombia"
   ]
  },
  {
   "cell_type": "code",
   "execution_count": 113,
   "metadata": {},
   "outputs": [
    {
     "data": {
      "text/plain": [
       "Index(['ID de caso', 'Fecha de notificación', 'Codigo DIVIPOLA',\n",
       "       'Ciudad de ubicación', 'Departamento o Distrito ', 'atención', 'Edad',\n",
       "       'Sexo', 'Tipo', 'Estado', 'País de procedencia', 'FIS',\n",
       "       'Fecha de muerte', 'Fecha diagnostico', 'Fecha recuperado',\n",
       "       'fecha reporte web'],\n",
       "      dtype='object')"
      ]
     },
     "execution_count": 113,
     "metadata": {},
     "output_type": "execute_result"
    }
   ],
   "source": [
    "covid19co.columns"
   ]
  },
  {
   "cell_type": "code",
   "execution_count": 114,
   "metadata": {},
   "outputs": [],
   "source": [
    "# Remove Accents and Uppercase\n",
    "covid19co.columns = [unidecode.unidecode(value).upper() for value in covid19co.columns]\n",
    "# Fill NaN Values\n",
    "if covid19co.isna().sum().sum() > 0:\n",
    "    covid19co.fillna(value='-', inplace=True)"
   ]
  },
  {
   "cell_type": "code",
   "execution_count": 115,
   "metadata": {},
   "outputs": [],
   "source": [
    "col_clean=['ATENCION', 'SEXO', 'TIPO', 'ESTADO','DEPARTAMENTO O DISTRITO ']\n",
    "for col_clean in col_clean:\n",
    "    covid19co[col_clean]=covid19co[col_clean].str.title()"
   ]
  },
  {
   "cell_type": "code",
   "execution_count": 116,
   "metadata": {},
   "outputs": [
    {
     "data": {
      "text/html": [
       "<div>\n",
       "<style scoped>\n",
       "    .dataframe tbody tr th:only-of-type {\n",
       "        vertical-align: middle;\n",
       "    }\n",
       "\n",
       "    .dataframe tbody tr th {\n",
       "        vertical-align: top;\n",
       "    }\n",
       "\n",
       "    .dataframe thead th {\n",
       "        text-align: right;\n",
       "    }\n",
       "</style>\n",
       "<table border=\"1\" class=\"dataframe\">\n",
       "  <thead>\n",
       "    <tr style=\"text-align: right;\">\n",
       "      <th></th>\n",
       "      <th>ID DE CASO</th>\n",
       "      <th>FECHA DE NOTIFICACION</th>\n",
       "      <th>CODIGO DIVIPOLA</th>\n",
       "      <th>CIUDAD DE UBICACION</th>\n",
       "      <th>DEPARTAMENTO O DISTRITO</th>\n",
       "      <th>ATENCION</th>\n",
       "      <th>EDAD</th>\n",
       "      <th>SEXO</th>\n",
       "      <th>TIPO</th>\n",
       "      <th>ESTADO</th>\n",
       "      <th>PAIS DE PROCEDENCIA</th>\n",
       "      <th>FIS</th>\n",
       "      <th>FECHA DE MUERTE</th>\n",
       "      <th>FECHA DIAGNOSTICO</th>\n",
       "      <th>FECHA RECUPERADO</th>\n",
       "      <th>FECHA REPORTE WEB</th>\n",
       "    </tr>\n",
       "  </thead>\n",
       "  <tbody>\n",
       "    <tr>\n",
       "      <th>2286</th>\n",
       "      <td>2287</td>\n",
       "      <td>03/04/2020</td>\n",
       "      <td>11001</td>\n",
       "      <td>Bogotá D.C.</td>\n",
       "      <td>Bogotá D.C.</td>\n",
       "      <td>Casa</td>\n",
       "      <td>44</td>\n",
       "      <td>F</td>\n",
       "      <td>En Estudio</td>\n",
       "      <td>Leve</td>\n",
       "      <td>Colombia</td>\n",
       "      <td>31/03/2020</td>\n",
       "      <td>-</td>\n",
       "      <td>10/04/2020</td>\n",
       "      <td>-</td>\n",
       "      <td>10/04/2020</td>\n",
       "    </tr>\n",
       "    <tr>\n",
       "      <th>2916</th>\n",
       "      <td>2917</td>\n",
       "      <td>05/04/2020</td>\n",
       "      <td>11001</td>\n",
       "      <td>Bogotá D.C.</td>\n",
       "      <td>Bogotá D.C.</td>\n",
       "      <td>Casa</td>\n",
       "      <td>65</td>\n",
       "      <td>M</td>\n",
       "      <td>En Estudio</td>\n",
       "      <td>Leve</td>\n",
       "      <td>Colombia</td>\n",
       "      <td>05/04/2020</td>\n",
       "      <td>-</td>\n",
       "      <td>14/04/2020</td>\n",
       "      <td>-</td>\n",
       "      <td>14/04/2020</td>\n",
       "    </tr>\n",
       "    <tr>\n",
       "      <th>3080</th>\n",
       "      <td>3081</td>\n",
       "      <td>13/04/2020</td>\n",
       "      <td>11001</td>\n",
       "      <td>Bogotá D.C.</td>\n",
       "      <td>Bogotá D.C.</td>\n",
       "      <td>Recuperado</td>\n",
       "      <td>23</td>\n",
       "      <td>F</td>\n",
       "      <td>En Estudio</td>\n",
       "      <td>Leve</td>\n",
       "      <td>Colombia</td>\n",
       "      <td>10/04/2020</td>\n",
       "      <td>-</td>\n",
       "      <td>15/04/2020</td>\n",
       "      <td>26/04/2020</td>\n",
       "      <td>15/04/2020</td>\n",
       "    </tr>\n",
       "    <tr>\n",
       "      <th>4012</th>\n",
       "      <td>4013</td>\n",
       "      <td>18/04/2020</td>\n",
       "      <td>25126</td>\n",
       "      <td>Cajicá</td>\n",
       "      <td>Cundinamarca</td>\n",
       "      <td>Casa</td>\n",
       "      <td>25</td>\n",
       "      <td>F</td>\n",
       "      <td>En Estudio</td>\n",
       "      <td>Leve</td>\n",
       "      <td>Colombia</td>\n",
       "      <td>16/04/2020</td>\n",
       "      <td>-</td>\n",
       "      <td>21/04/2020</td>\n",
       "      <td>-</td>\n",
       "      <td>21/04/2020</td>\n",
       "    </tr>\n",
       "    <tr>\n",
       "      <th>2013</th>\n",
       "      <td>2014</td>\n",
       "      <td>29/03/2020</td>\n",
       "      <td>25175</td>\n",
       "      <td>Chía</td>\n",
       "      <td>Cundinamarca</td>\n",
       "      <td>Recuperado</td>\n",
       "      <td>56</td>\n",
       "      <td>M</td>\n",
       "      <td>En Estudio</td>\n",
       "      <td>Leve</td>\n",
       "      <td>Colombia</td>\n",
       "      <td>22/03/2020</td>\n",
       "      <td>-</td>\n",
       "      <td>08/04/2020</td>\n",
       "      <td>24/04/2020</td>\n",
       "      <td>08/04/2020</td>\n",
       "    </tr>\n",
       "  </tbody>\n",
       "</table>\n",
       "</div>"
      ],
      "text/plain": [
       "      ID DE CASO FECHA DE NOTIFICACION  CODIGO DIVIPOLA CIUDAD DE UBICACION  \\\n",
       "2286        2287            03/04/2020            11001         Bogotá D.C.   \n",
       "2916        2917            05/04/2020            11001         Bogotá D.C.   \n",
       "3080        3081            13/04/2020            11001         Bogotá D.C.   \n",
       "4012        4013            18/04/2020            25126              Cajicá   \n",
       "2013        2014            29/03/2020            25175                Chía   \n",
       "\n",
       "     DEPARTAMENTO O DISTRITO     ATENCION  EDAD SEXO        TIPO ESTADO  \\\n",
       "2286              Bogotá D.C.        Casa    44    F  En Estudio   Leve   \n",
       "2916              Bogotá D.C.        Casa    65    M  En Estudio   Leve   \n",
       "3080              Bogotá D.C.  Recuperado    23    F  En Estudio   Leve   \n",
       "4012             Cundinamarca        Casa    25    F  En Estudio   Leve   \n",
       "2013             Cundinamarca  Recuperado    56    M  En Estudio   Leve   \n",
       "\n",
       "     PAIS DE PROCEDENCIA         FIS FECHA DE MUERTE FECHA DIAGNOSTICO  \\\n",
       "2286            Colombia  31/03/2020               -        10/04/2020   \n",
       "2916            Colombia  05/04/2020               -        14/04/2020   \n",
       "3080            Colombia  10/04/2020               -        15/04/2020   \n",
       "4012            Colombia  16/04/2020               -        21/04/2020   \n",
       "2013            Colombia  22/03/2020               -        08/04/2020   \n",
       "\n",
       "     FECHA RECUPERADO FECHA REPORTE WEB  \n",
       "2286                -        10/04/2020  \n",
       "2916                -        14/04/2020  \n",
       "3080       26/04/2020        15/04/2020  \n",
       "4012                -        21/04/2020  \n",
       "2013       24/04/2020        08/04/2020  "
      ]
     },
     "execution_count": 116,
     "metadata": {},
     "output_type": "execute_result"
    }
   ],
   "source": [
    "# Setup Date Format\n",
    "date_columns = list(filter(lambda value: value.find('FECHA') != -1 or value.find('FIS') != -1, covid19co.columns))\n",
    "#print(date_columns)\n",
    "def setup_date(value):\n",
    "    #print('date:', value)\n",
    "    try:\n",
    "        value = value.split('T')[0].split('-')\n",
    "        if len(value) == 3:\n",
    "            value = value[2] + '/' + value[1] + '/' + value[0]\n",
    "        else:\n",
    "            value = '-'\n",
    "    except IndexError:\n",
    "        value = '-'\n",
    "    if len(value) != 10 and len(value) != 1:\n",
    "        value = '-'\n",
    "    return value\n",
    "# For each date column\n",
    "for date_column in date_columns:\n",
    "    covid19co[date_column] = covid19co[date_column].transform(lambda value: setup_date(value))\n",
    "# Show dataframe\n",
    "covid19co.sample(n=5)"
   ]
  },
  {
   "cell_type": "code",
   "execution_count": 550,
   "metadata": {},
   "outputs": [
    {
     "data": {
      "text/html": [
       "<div>\n",
       "<style scoped>\n",
       "    .dataframe tbody tr th:only-of-type {\n",
       "        vertical-align: middle;\n",
       "    }\n",
       "\n",
       "    .dataframe tbody tr th {\n",
       "        vertical-align: top;\n",
       "    }\n",
       "\n",
       "    .dataframe thead th {\n",
       "        text-align: right;\n",
       "    }\n",
       "</style>\n",
       "<table border=\"1\" class=\"dataframe\">\n",
       "  <thead>\n",
       "    <tr style=\"text-align: right;\">\n",
       "      <th></th>\n",
       "      <th>0</th>\n",
       "    </tr>\n",
       "  </thead>\n",
       "  <tbody>\n",
       "    <tr>\n",
       "      <th>count</th>\n",
       "      <td>6474.000000</td>\n",
       "    </tr>\n",
       "    <tr>\n",
       "      <th>mean</th>\n",
       "      <td>11.599475</td>\n",
       "    </tr>\n",
       "    <tr>\n",
       "      <th>std</th>\n",
       "      <td>6.718208</td>\n",
       "    </tr>\n",
       "    <tr>\n",
       "      <th>min</th>\n",
       "      <td>0.000000</td>\n",
       "    </tr>\n",
       "    <tr>\n",
       "      <th>25%</th>\n",
       "      <td>7.000000</td>\n",
       "    </tr>\n",
       "    <tr>\n",
       "      <th>50%</th>\n",
       "      <td>10.000000</td>\n",
       "    </tr>\n",
       "    <tr>\n",
       "      <th>75%</th>\n",
       "      <td>15.000000</td>\n",
       "    </tr>\n",
       "    <tr>\n",
       "      <th>max</th>\n",
       "      <td>53.000000</td>\n",
       "    </tr>\n",
       "  </tbody>\n",
       "</table>\n",
       "</div>"
      ],
      "text/plain": [
       "                 0\n",
       "count  6474.000000\n",
       "mean     11.599475\n",
       "std       6.718208\n",
       "min       0.000000\n",
       "25%       7.000000\n",
       "50%      10.000000\n",
       "75%      15.000000\n",
       "max      53.000000"
      ]
     },
     "execution_count": 550,
     "metadata": {},
     "output_type": "execute_result"
    }
   ],
   "source": [
    "delta=[(datetime.datetime.strptime(covid19co['FECHA DIAGNOSTICO'][i], '%d/%m/%Y')-datetime.datetime.strptime(covid19co['FIS'][i], '%d/%m/%Y')).days for i in range (len(covid19co['FECHA DE NOTIFICACION'])) if covid19co['FIS'][i] != '-']\n",
    "df = pd.DataFrame(delta)\n",
    "df.describe()"
   ]
  },
  {
   "cell_type": "code",
   "execution_count": 117,
   "metadata": {
    "scrolled": true
   },
   "outputs": [
    {
     "name": "stdout",
     "output_type": "stream",
     "text": [
      "<class 'pandas.core.frame.DataFrame'>\n",
      "RangeIndex: 7285 entries, 0 to 7284\n",
      "Data columns (total 16 columns):\n",
      " #   Column                    Non-Null Count  Dtype \n",
      "---  ------                    --------------  ----- \n",
      " 0   ID DE CASO                7285 non-null   int64 \n",
      " 1   FECHA DE NOTIFICACION     7285 non-null   object\n",
      " 2   CODIGO DIVIPOLA           7285 non-null   int64 \n",
      " 3   CIUDAD DE UBICACION       7285 non-null   object\n",
      " 4   DEPARTAMENTO O DISTRITO   7285 non-null   object\n",
      " 5   ATENCION                  7285 non-null   object\n",
      " 6   EDAD                      7285 non-null   int64 \n",
      " 7   SEXO                      7285 non-null   object\n",
      " 8   TIPO                      7285 non-null   object\n",
      " 9   ESTADO                    7285 non-null   object\n",
      " 10  PAIS DE PROCEDENCIA       7285 non-null   object\n",
      " 11  FIS                       7285 non-null   object\n",
      " 12  FECHA DE MUERTE           7285 non-null   object\n",
      " 13  FECHA DIAGNOSTICO         7285 non-null   object\n",
      " 14  FECHA RECUPERADO          7285 non-null   object\n",
      " 15  FECHA REPORTE WEB         7285 non-null   object\n",
      "dtypes: int64(3), object(13)\n",
      "memory usage: 910.8+ KB\n"
     ]
    }
   ],
   "source": [
    "covid19co.info()"
   ]
  },
  {
   "cell_type": "code",
   "execution_count": 118,
   "metadata": {},
   "outputs": [],
   "source": [
    "# Save dataframe\n",
    "covid19co.to_csv(os.path.join(OUTPUT_DIR, 'covid19co.csv'), index=False)"
   ]
  },
  {
   "cell_type": "markdown",
   "metadata": {},
   "source": [
    "#### Datos muestras procesadas diariamente"
   ]
  },
  {
   "cell_type": "code",
   "execution_count": 119,
   "metadata": {},
   "outputs": [],
   "source": [
    "# Official Samples Processed Until Now\n",
    "with requests.get(URL_SAMPLES_PROCESSED) as official_dataset:\n",
    "    with open(os.path.join(INPUT_DIR, 'covid19co_samples_processed_official.json'), 'w') as json_file:\n",
    "        json_data = official_dataset.json()\n",
    "        del json_data['refreshed']\n",
    "        json.dump(json_data, json_file, ensure_ascii=False, indent=4)"
   ]
  },
  {
   "cell_type": "code",
   "execution_count": 120,
   "metadata": {},
   "outputs": [
    {
     "data": {
      "text/plain": [
       "(60, 2)"
      ]
     },
     "execution_count": 120,
     "metadata": {},
     "output_type": "execute_result"
    }
   ],
   "source": [
    "# Open Official Samples Processed\n",
    "with open(os.path.join(INPUT_DIR, 'covid19co_samples_processed_official.json')) as official_dataset:\n",
    "    official_dataset = json.load(official_dataset)\n",
    "# Official Samples Processed\n",
    "official_dataset = official_dataset['data'][0]\n",
    "covid19co_samples_processed = pd.DataFrame(columns=official_dataset[0], data=official_dataset[1:])\n",
    "# Total Daily Report\n",
    "covid19co_samples_processed.shape"
   ]
  },
  {
   "cell_type": "code",
   "execution_count": 121,
   "metadata": {},
   "outputs": [
    {
     "data": {
      "text/html": [
       "<div>\n",
       "<style scoped>\n",
       "    .dataframe tbody tr th:only-of-type {\n",
       "        vertical-align: middle;\n",
       "    }\n",
       "\n",
       "    .dataframe tbody tr th {\n",
       "        vertical-align: top;\n",
       "    }\n",
       "\n",
       "    .dataframe thead th {\n",
       "        text-align: right;\n",
       "    }\n",
       "</style>\n",
       "<table border=\"1\" class=\"dataframe\">\n",
       "  <thead>\n",
       "    <tr style=\"text-align: right;\">\n",
       "      <th></th>\n",
       "      <th>Fecha</th>\n",
       "      <th>Muestras procesadas por corte</th>\n",
       "    </tr>\n",
       "  </thead>\n",
       "  <tbody>\n",
       "    <tr>\n",
       "      <th>0</th>\n",
       "      <td>Acumulado Feb</td>\n",
       "      <td>601</td>\n",
       "    </tr>\n",
       "    <tr>\n",
       "      <th>1</th>\n",
       "      <td>5/3/20</td>\n",
       "      <td>636</td>\n",
       "    </tr>\n",
       "    <tr>\n",
       "      <th>2</th>\n",
       "      <td>6/3/2020 (Día 1)</td>\n",
       "      <td>739</td>\n",
       "    </tr>\n",
       "    <tr>\n",
       "      <th>3</th>\n",
       "      <td>7/3/2020</td>\n",
       "      <td>810</td>\n",
       "    </tr>\n",
       "    <tr>\n",
       "      <th>4</th>\n",
       "      <td>8/3/2020</td>\n",
       "      <td>813</td>\n",
       "    </tr>\n",
       "  </tbody>\n",
       "</table>\n",
       "</div>"
      ],
      "text/plain": [
       "              Fecha Muestras procesadas por corte\n",
       "0     Acumulado Feb                           601\n",
       "1            5/3/20                           636\n",
       "2  6/3/2020 (Día 1)                           739\n",
       "3          7/3/2020                           810\n",
       "4          8/3/2020                           813"
      ]
     },
     "execution_count": 121,
     "metadata": {},
     "output_type": "execute_result"
    }
   ],
   "source": [
    "covid19co_samples_processed.head()"
   ]
  },
  {
   "cell_type": "code",
   "execution_count": 122,
   "metadata": {},
   "outputs": [],
   "source": [
    "# Update Name Columns\n",
    "# Remove Accents and Uppercase\n",
    "covid19co_samples_processed.columns = [unidecode.unidecode(value).upper() for value in covid19co_samples_processed.columns]"
   ]
  },
  {
   "cell_type": "code",
   "execution_count": 123,
   "metadata": {},
   "outputs": [
    {
     "data": {
      "text/html": [
       "<div>\n",
       "<style scoped>\n",
       "    .dataframe tbody tr th:only-of-type {\n",
       "        vertical-align: middle;\n",
       "    }\n",
       "\n",
       "    .dataframe tbody tr th {\n",
       "        vertical-align: top;\n",
       "    }\n",
       "\n",
       "    .dataframe thead th {\n",
       "        text-align: right;\n",
       "    }\n",
       "</style>\n",
       "<table border=\"1\" class=\"dataframe\">\n",
       "  <thead>\n",
       "    <tr style=\"text-align: right;\">\n",
       "      <th></th>\n",
       "      <th>FECHA</th>\n",
       "      <th>MUESTRAS PROCESADAS POR CORTE</th>\n",
       "    </tr>\n",
       "  </thead>\n",
       "  <tbody>\n",
       "    <tr>\n",
       "      <th>0</th>\n",
       "      <td>-</td>\n",
       "      <td>601</td>\n",
       "    </tr>\n",
       "    <tr>\n",
       "      <th>1</th>\n",
       "      <td>05/03/2020</td>\n",
       "      <td>636</td>\n",
       "    </tr>\n",
       "    <tr>\n",
       "      <th>2</th>\n",
       "      <td>06/03/2020</td>\n",
       "      <td>739</td>\n",
       "    </tr>\n",
       "    <tr>\n",
       "      <th>3</th>\n",
       "      <td>07/03/2020</td>\n",
       "      <td>810</td>\n",
       "    </tr>\n",
       "    <tr>\n",
       "      <th>4</th>\n",
       "      <td>08/03/2020</td>\n",
       "      <td>813</td>\n",
       "    </tr>\n",
       "  </tbody>\n",
       "</table>\n",
       "</div>"
      ],
      "text/plain": [
       "        FECHA MUESTRAS PROCESADAS POR CORTE\n",
       "0           -                           601\n",
       "1  05/03/2020                           636\n",
       "2  06/03/2020                           739\n",
       "3  07/03/2020                           810\n",
       "4  08/03/2020                           813"
      ]
     },
     "execution_count": 123,
     "metadata": {},
     "output_type": "execute_result"
    }
   ],
   "source": [
    "# Setup Date Format\n",
    "def setup_date_samples(value):\n",
    "    #print('date:', value)\n",
    "    try:\n",
    "        value = value.split(' ')\n",
    "        value = value[0].split('/')\n",
    "        #print(len(value))\n",
    "        if len(value) == 3:\n",
    "            # Day\n",
    "            if len(value[0]) == 1:\n",
    "                value[0] = '0' + value[0]\n",
    "            # Month\n",
    "            if len(value[1]) == 1:\n",
    "                value[1] = '0' + value[1]\n",
    "            # Year\n",
    "            if len(value[2]) == 2:\n",
    "                value[2] = value[2] + '20'\n",
    "            # Date\n",
    "            value = value[0] + '/' + value[1] + '/' + value[2]\n",
    "        else:\n",
    "            value = '-'\n",
    "    except IndexError:\n",
    "        value = '-'\n",
    "    #print('VALUE:', value)\n",
    "    if len(value) != 10 and len(value) != 1:\n",
    "        value = '-'\n",
    "    return value\n",
    "# Setup Date Format\n",
    "covid19co_samples_processed['FECHA'] = covid19co_samples_processed['FECHA'].transform(lambda value: setup_date_samples(value))\n",
    "# Show dataframe\n",
    "covid19co_samples_processed.head()"
   ]
  },
  {
   "cell_type": "code",
   "execution_count": 124,
   "metadata": {},
   "outputs": [],
   "source": [
    "# Save dataframe\n",
    "covid19co_samples_processed.to_csv(os.path.join(OUTPUT_DIR, 'covid19co_samples_processed.csv'), index=False)"
   ]
  },
  {
   "cell_type": "markdown",
   "metadata": {},
   "source": [
    "#### Datos movilidad Colombia"
   ]
  },
  {
   "cell_type": "code",
   "execution_count": 8,
   "metadata": {},
   "outputs": [
    {
     "name": "stderr",
     "output_type": "stream",
     "text": [
      "/home/nicolasbb/anaconda3/envs/tf/lib/python3.7/site-packages/IPython/core/interactiveshell.py:3063: DtypeWarning: Columns (3) have mixed types.Specify dtype option on import or set low_memory=False.\n",
      "  interactivity=interactivity, compiler=compiler, result=result)\n"
     ]
    },
    {
     "data": {
      "text/plain": [
       "(284489, 11)"
      ]
     },
     "execution_count": 8,
     "metadata": {},
     "output_type": "execute_result"
    }
   ],
   "source": [
    "# Official Daily Report Until Now\n",
    "with requests.get(URL_GOOGLE_MOBILITY) as official_dataset:\n",
    "    open(os.path.join(INPUT_DIR, 'google_mobility_official.csv'), 'wb').write(official_dataset.content)\n",
    "google_mobility = pd.read_csv(os.path.join(INPUT_DIR, 'google_mobility_official.csv'))\n",
    "google_mobility.shape"
   ]
  },
  {
   "cell_type": "code",
   "execution_count": 306,
   "metadata": {},
   "outputs": [
    {
     "data": {
      "text/html": [
       "<div>\n",
       "<style scoped>\n",
       "    .dataframe tbody tr th:only-of-type {\n",
       "        vertical-align: middle;\n",
       "    }\n",
       "\n",
       "    .dataframe tbody tr th {\n",
       "        vertical-align: top;\n",
       "    }\n",
       "\n",
       "    .dataframe thead th {\n",
       "        text-align: right;\n",
       "    }\n",
       "</style>\n",
       "<table border=\"1\" class=\"dataframe\">\n",
       "  <thead>\n",
       "    <tr style=\"text-align: right;\">\n",
       "      <th></th>\n",
       "      <th>country_region_code</th>\n",
       "      <th>country_region</th>\n",
       "      <th>sub_region_1</th>\n",
       "      <th>sub_region_2</th>\n",
       "      <th>date</th>\n",
       "      <th>retail_and_recreation_percent_change_from_baseline</th>\n",
       "      <th>grocery_and_pharmacy_percent_change_from_baseline</th>\n",
       "      <th>parks_percent_change_from_baseline</th>\n",
       "      <th>transit_stations_percent_change_from_baseline</th>\n",
       "      <th>workplaces_percent_change_from_baseline</th>\n",
       "      <th>residential_percent_change_from_baseline</th>\n",
       "    </tr>\n",
       "  </thead>\n",
       "  <tbody>\n",
       "    <tr>\n",
       "      <th>101864</th>\n",
       "      <td>US</td>\n",
       "      <td>United States</td>\n",
       "      <td>California</td>\n",
       "      <td>San Francisco County</td>\n",
       "      <td>2020-03-21</td>\n",
       "      <td>-73.0</td>\n",
       "      <td>-22.0</td>\n",
       "      <td>-38.0</td>\n",
       "      <td>-65.0</td>\n",
       "      <td>-49.0</td>\n",
       "      <td>20.0</td>\n",
       "    </tr>\n",
       "    <tr>\n",
       "      <th>232796</th>\n",
       "      <td>US</td>\n",
       "      <td>United States</td>\n",
       "      <td>South Carolina</td>\n",
       "      <td>Florence County</td>\n",
       "      <td>2020-03-05</td>\n",
       "      <td>4.0</td>\n",
       "      <td>-2.0</td>\n",
       "      <td>NaN</td>\n",
       "      <td>8.0</td>\n",
       "      <td>-1.0</td>\n",
       "      <td>3.0</td>\n",
       "    </tr>\n",
       "    <tr>\n",
       "      <th>221925</th>\n",
       "      <td>US</td>\n",
       "      <td>United States</td>\n",
       "      <td>Oklahoma</td>\n",
       "      <td>Muskogee County</td>\n",
       "      <td>2020-03-13</td>\n",
       "      <td>3.0</td>\n",
       "      <td>10.0</td>\n",
       "      <td>-58.0</td>\n",
       "      <td>13.0</td>\n",
       "      <td>-4.0</td>\n",
       "      <td>3.0</td>\n",
       "    </tr>\n",
       "    <tr>\n",
       "      <th>134559</th>\n",
       "      <td>US</td>\n",
       "      <td>United States</td>\n",
       "      <td>Indiana</td>\n",
       "      <td>Harrison County</td>\n",
       "      <td>2020-04-11</td>\n",
       "      <td>-40.0</td>\n",
       "      <td>NaN</td>\n",
       "      <td>NaN</td>\n",
       "      <td>NaN</td>\n",
       "      <td>-30.0</td>\n",
       "      <td>NaN</td>\n",
       "    </tr>\n",
       "    <tr>\n",
       "      <th>166902</th>\n",
       "      <td>US</td>\n",
       "      <td>United States</td>\n",
       "      <td>Michigan</td>\n",
       "      <td>Emmet County</td>\n",
       "      <td>2020-04-22</td>\n",
       "      <td>-48.0</td>\n",
       "      <td>-20.0</td>\n",
       "      <td>NaN</td>\n",
       "      <td>NaN</td>\n",
       "      <td>-55.0</td>\n",
       "      <td>NaN</td>\n",
       "    </tr>\n",
       "  </tbody>\n",
       "</table>\n",
       "</div>"
      ],
      "text/plain": [
       "       country_region_code country_region    sub_region_1  \\\n",
       "101864                  US  United States      California   \n",
       "232796                  US  United States  South Carolina   \n",
       "221925                  US  United States        Oklahoma   \n",
       "134559                  US  United States         Indiana   \n",
       "166902                  US  United States        Michigan   \n",
       "\n",
       "                sub_region_2        date  \\\n",
       "101864  San Francisco County  2020-03-21   \n",
       "232796       Florence County  2020-03-05   \n",
       "221925       Muskogee County  2020-03-13   \n",
       "134559       Harrison County  2020-04-11   \n",
       "166902          Emmet County  2020-04-22   \n",
       "\n",
       "        retail_and_recreation_percent_change_from_baseline  \\\n",
       "101864                                              -73.0    \n",
       "232796                                                4.0    \n",
       "221925                                                3.0    \n",
       "134559                                              -40.0    \n",
       "166902                                              -48.0    \n",
       "\n",
       "        grocery_and_pharmacy_percent_change_from_baseline  \\\n",
       "101864                                              -22.0   \n",
       "232796                                               -2.0   \n",
       "221925                                               10.0   \n",
       "134559                                                NaN   \n",
       "166902                                              -20.0   \n",
       "\n",
       "        parks_percent_change_from_baseline  \\\n",
       "101864                               -38.0   \n",
       "232796                                 NaN   \n",
       "221925                               -58.0   \n",
       "134559                                 NaN   \n",
       "166902                                 NaN   \n",
       "\n",
       "        transit_stations_percent_change_from_baseline  \\\n",
       "101864                                          -65.0   \n",
       "232796                                            8.0   \n",
       "221925                                           13.0   \n",
       "134559                                            NaN   \n",
       "166902                                            NaN   \n",
       "\n",
       "        workplaces_percent_change_from_baseline  \\\n",
       "101864                                    -49.0   \n",
       "232796                                     -1.0   \n",
       "221925                                     -4.0   \n",
       "134559                                    -30.0   \n",
       "166902                                    -55.0   \n",
       "\n",
       "        residential_percent_change_from_baseline  \n",
       "101864                                      20.0  \n",
       "232796                                       3.0  \n",
       "221925                                       3.0  \n",
       "134559                                       NaN  \n",
       "166902                                       NaN  "
      ]
     },
     "execution_count": 306,
     "metadata": {},
     "output_type": "execute_result"
    }
   ],
   "source": [
    "google_mobility.sample(n=5)"
   ]
  },
  {
   "cell_type": "code",
   "execution_count": 9,
   "metadata": {},
   "outputs": [],
   "source": [
    "google_mobility_co = google_mobility[google_mobility['country_region'] == 'Colombia']"
   ]
  },
  {
   "cell_type": "code",
   "execution_count": 10,
   "metadata": {},
   "outputs": [
    {
     "name": "stderr",
     "output_type": "stream",
     "text": [
      "/home/nicolasbb/anaconda3/envs/tf/lib/python3.7/site-packages/ipykernel_launcher.py:19: SettingWithCopyWarning: \n",
      "A value is trying to be set on a copy of a slice from a DataFrame.\n",
      "Try using .loc[row_indexer,col_indexer] = value instead\n",
      "\n",
      "See the caveats in the documentation: https://pandas.pydata.org/pandas-docs/stable/user_guide/indexing.html#returning-a-view-versus-a-copy\n"
     ]
    },
    {
     "data": {
      "text/html": [
       "<div>\n",
       "<style scoped>\n",
       "    .dataframe tbody tr th:only-of-type {\n",
       "        vertical-align: middle;\n",
       "    }\n",
       "\n",
       "    .dataframe tbody tr th {\n",
       "        vertical-align: top;\n",
       "    }\n",
       "\n",
       "    .dataframe thead th {\n",
       "        text-align: right;\n",
       "    }\n",
       "</style>\n",
       "<table border=\"1\" class=\"dataframe\">\n",
       "  <thead>\n",
       "    <tr style=\"text-align: right;\">\n",
       "      <th></th>\n",
       "      <th>country_region_code</th>\n",
       "      <th>country_region</th>\n",
       "      <th>sub_region_1</th>\n",
       "      <th>sub_region_2</th>\n",
       "      <th>date</th>\n",
       "      <th>retail_and_recreation_percent_change_from_baseline</th>\n",
       "      <th>grocery_and_pharmacy_percent_change_from_baseline</th>\n",
       "      <th>parks_percent_change_from_baseline</th>\n",
       "      <th>transit_stations_percent_change_from_baseline</th>\n",
       "      <th>workplaces_percent_change_from_baseline</th>\n",
       "      <th>residential_percent_change_from_baseline</th>\n",
       "    </tr>\n",
       "  </thead>\n",
       "  <tbody>\n",
       "    <tr>\n",
       "      <th>14155</th>\n",
       "      <td>CO</td>\n",
       "      <td>Colombia</td>\n",
       "      <td>Amazonas Department</td>\n",
       "      <td>NaN</td>\n",
       "      <td>25/04/2020</td>\n",
       "      <td>NaN</td>\n",
       "      <td>NaN</td>\n",
       "      <td>-80.0</td>\n",
       "      <td>NaN</td>\n",
       "      <td>-40.0</td>\n",
       "      <td>NaN</td>\n",
       "    </tr>\n",
       "    <tr>\n",
       "      <th>14185</th>\n",
       "      <td>CO</td>\n",
       "      <td>Colombia</td>\n",
       "      <td>Antioquia</td>\n",
       "      <td>NaN</td>\n",
       "      <td>14/03/2020</td>\n",
       "      <td>-3.0</td>\n",
       "      <td>12.0</td>\n",
       "      <td>-7.0</td>\n",
       "      <td>-3.0</td>\n",
       "      <td>9.0</td>\n",
       "      <td>1.0</td>\n",
       "    </tr>\n",
       "    <tr>\n",
       "      <th>14219</th>\n",
       "      <td>CO</td>\n",
       "      <td>Colombia</td>\n",
       "      <td>Antioquia</td>\n",
       "      <td>NaN</td>\n",
       "      <td>17/04/2020</td>\n",
       "      <td>-78.0</td>\n",
       "      <td>-50.0</td>\n",
       "      <td>-68.0</td>\n",
       "      <td>-78.0</td>\n",
       "      <td>-68.0</td>\n",
       "      <td>35.0</td>\n",
       "    </tr>\n",
       "    <tr>\n",
       "      <th>14847</th>\n",
       "      <td>CO</td>\n",
       "      <td>Colombia</td>\n",
       "      <td>Cauca</td>\n",
       "      <td>NaN</td>\n",
       "      <td>28/03/2020</td>\n",
       "      <td>-80.0</td>\n",
       "      <td>-60.0</td>\n",
       "      <td>-69.0</td>\n",
       "      <td>-80.0</td>\n",
       "      <td>-58.0</td>\n",
       "      <td>27.0</td>\n",
       "    </tr>\n",
       "    <tr>\n",
       "      <th>15419</th>\n",
       "      <td>CO</td>\n",
       "      <td>Colombia</td>\n",
       "      <td>Magdalena</td>\n",
       "      <td>NaN</td>\n",
       "      <td>24/03/2020</td>\n",
       "      <td>-73.0</td>\n",
       "      <td>-56.0</td>\n",
       "      <td>-73.0</td>\n",
       "      <td>-78.0</td>\n",
       "      <td>-55.0</td>\n",
       "      <td>21.0</td>\n",
       "    </tr>\n",
       "  </tbody>\n",
       "</table>\n",
       "</div>"
      ],
      "text/plain": [
       "      country_region_code country_region         sub_region_1 sub_region_2  \\\n",
       "14155                  CO       Colombia  Amazonas Department          NaN   \n",
       "14185                  CO       Colombia            Antioquia          NaN   \n",
       "14219                  CO       Colombia            Antioquia          NaN   \n",
       "14847                  CO       Colombia                Cauca          NaN   \n",
       "15419                  CO       Colombia            Magdalena          NaN   \n",
       "\n",
       "             date  retail_and_recreation_percent_change_from_baseline  \\\n",
       "14155  25/04/2020                                                NaN    \n",
       "14185  14/03/2020                                               -3.0    \n",
       "14219  17/04/2020                                              -78.0    \n",
       "14847  28/03/2020                                              -80.0    \n",
       "15419  24/03/2020                                              -73.0    \n",
       "\n",
       "       grocery_and_pharmacy_percent_change_from_baseline  \\\n",
       "14155                                                NaN   \n",
       "14185                                               12.0   \n",
       "14219                                              -50.0   \n",
       "14847                                              -60.0   \n",
       "15419                                              -56.0   \n",
       "\n",
       "       parks_percent_change_from_baseline  \\\n",
       "14155                               -80.0   \n",
       "14185                                -7.0   \n",
       "14219                               -68.0   \n",
       "14847                               -69.0   \n",
       "15419                               -73.0   \n",
       "\n",
       "       transit_stations_percent_change_from_baseline  \\\n",
       "14155                                            NaN   \n",
       "14185                                           -3.0   \n",
       "14219                                          -78.0   \n",
       "14847                                          -80.0   \n",
       "15419                                          -78.0   \n",
       "\n",
       "       workplaces_percent_change_from_baseline  \\\n",
       "14155                                    -40.0   \n",
       "14185                                      9.0   \n",
       "14219                                    -68.0   \n",
       "14847                                    -58.0   \n",
       "15419                                    -55.0   \n",
       "\n",
       "       residential_percent_change_from_baseline  \n",
       "14155                                       NaN  \n",
       "14185                                       1.0  \n",
       "14219                                      35.0  \n",
       "14847                                      27.0  \n",
       "15419                                      21.0  "
      ]
     },
     "execution_count": 10,
     "metadata": {},
     "output_type": "execute_result"
    }
   ],
   "source": [
    "# Setup Date Format\n",
    "def setup_date_samples(value):\n",
    "    #print('date:', value)\n",
    "    try:\n",
    "        value = value.split('-')\n",
    "        #print(len(value))\n",
    "        if len(value) == 3:\n",
    "            # Date\n",
    "            value = value[2] + '/' + value[1] + '/' + value[0]\n",
    "        else:\n",
    "            value = '-'\n",
    "    except IndexError:\n",
    "        value = '-'\n",
    "    #print('VALUE:', value)\n",
    "    if len(value) != 10 and len(value) != 1:\n",
    "        value = '-'\n",
    "    return value\n",
    "# Setup Date Format\n",
    "google_mobility_co['date'] = google_mobility_co['date'].transform(lambda value: setup_date_samples(value))\n",
    "# Show dataframe\n",
    "google_mobility_co.sample(n=5)"
   ]
  },
  {
   "cell_type": "code",
   "execution_count": 11,
   "metadata": {},
   "outputs": [],
   "source": [
    "del google_mobility_co['country_region_code']\n",
    "del google_mobility_co['country_region']\n",
    "del google_mobility_co['sub_region_2']"
   ]
  },
  {
   "cell_type": "code",
   "execution_count": 13,
   "metadata": {},
   "outputs": [
    {
     "data": {
      "text/html": [
       "<div>\n",
       "<style scoped>\n",
       "    .dataframe tbody tr th:only-of-type {\n",
       "        vertical-align: middle;\n",
       "    }\n",
       "\n",
       "    .dataframe tbody tr th {\n",
       "        vertical-align: top;\n",
       "    }\n",
       "\n",
       "    .dataframe thead th {\n",
       "        text-align: right;\n",
       "    }\n",
       "</style>\n",
       "<table border=\"1\" class=\"dataframe\">\n",
       "  <thead>\n",
       "    <tr style=\"text-align: right;\">\n",
       "      <th></th>\n",
       "      <th>sub_region_1</th>\n",
       "      <th>date</th>\n",
       "      <th>retail_and_recreation_percent_change_from_baseline</th>\n",
       "      <th>grocery_and_pharmacy_percent_change_from_baseline</th>\n",
       "      <th>parks_percent_change_from_baseline</th>\n",
       "      <th>transit_stations_percent_change_from_baseline</th>\n",
       "      <th>workplaces_percent_change_from_baseline</th>\n",
       "      <th>residential_percent_change_from_baseline</th>\n",
       "    </tr>\n",
       "  </thead>\n",
       "  <tbody>\n",
       "    <tr>\n",
       "      <th>14860</th>\n",
       "      <td>Cauca</td>\n",
       "      <td>10/04/2020</td>\n",
       "      <td>-84.0</td>\n",
       "      <td>-73.0</td>\n",
       "      <td>-78.0</td>\n",
       "      <td>-76.0</td>\n",
       "      <td>-76.0</td>\n",
       "      <td>34.0</td>\n",
       "    </tr>\n",
       "    <tr>\n",
       "      <th>15526</th>\n",
       "      <td>Narino</td>\n",
       "      <td>16/02/2020</td>\n",
       "      <td>-5.0</td>\n",
       "      <td>-1.0</td>\n",
       "      <td>-16.0</td>\n",
       "      <td>-21.0</td>\n",
       "      <td>1.0</td>\n",
       "      <td>4.0</td>\n",
       "    </tr>\n",
       "    <tr>\n",
       "      <th>15821</th>\n",
       "      <td>Risaralda</td>\n",
       "      <td>23/02/2020</td>\n",
       "      <td>-9.0</td>\n",
       "      <td>-5.0</td>\n",
       "      <td>-7.0</td>\n",
       "      <td>-4.0</td>\n",
       "      <td>0.0</td>\n",
       "      <td>2.0</td>\n",
       "    </tr>\n",
       "    <tr>\n",
       "      <th>15427</th>\n",
       "      <td>Magdalena</td>\n",
       "      <td>01/04/2020</td>\n",
       "      <td>-76.0</td>\n",
       "      <td>-55.0</td>\n",
       "      <td>-75.0</td>\n",
       "      <td>-85.0</td>\n",
       "      <td>-65.0</td>\n",
       "      <td>24.0</td>\n",
       "    </tr>\n",
       "    <tr>\n",
       "      <th>14484</th>\n",
       "      <td>Bolivar</td>\n",
       "      <td>25/03/2020</td>\n",
       "      <td>-83.0</td>\n",
       "      <td>-67.0</td>\n",
       "      <td>-83.0</td>\n",
       "      <td>-86.0</td>\n",
       "      <td>-73.0</td>\n",
       "      <td>29.0</td>\n",
       "    </tr>\n",
       "  </tbody>\n",
       "</table>\n",
       "</div>"
      ],
      "text/plain": [
       "      sub_region_1        date  \\\n",
       "14860        Cauca  10/04/2020   \n",
       "15526       Narino  16/02/2020   \n",
       "15821    Risaralda  23/02/2020   \n",
       "15427    Magdalena  01/04/2020   \n",
       "14484      Bolivar  25/03/2020   \n",
       "\n",
       "       retail_and_recreation_percent_change_from_baseline  \\\n",
       "14860                                              -84.0    \n",
       "15526                                               -5.0    \n",
       "15821                                               -9.0    \n",
       "15427                                              -76.0    \n",
       "14484                                              -83.0    \n",
       "\n",
       "       grocery_and_pharmacy_percent_change_from_baseline  \\\n",
       "14860                                              -73.0   \n",
       "15526                                               -1.0   \n",
       "15821                                               -5.0   \n",
       "15427                                              -55.0   \n",
       "14484                                              -67.0   \n",
       "\n",
       "       parks_percent_change_from_baseline  \\\n",
       "14860                               -78.0   \n",
       "15526                               -16.0   \n",
       "15821                                -7.0   \n",
       "15427                               -75.0   \n",
       "14484                               -83.0   \n",
       "\n",
       "       transit_stations_percent_change_from_baseline  \\\n",
       "14860                                          -76.0   \n",
       "15526                                          -21.0   \n",
       "15821                                           -4.0   \n",
       "15427                                          -85.0   \n",
       "14484                                          -86.0   \n",
       "\n",
       "       workplaces_percent_change_from_baseline  \\\n",
       "14860                                    -76.0   \n",
       "15526                                      1.0   \n",
       "15821                                      0.0   \n",
       "15427                                    -65.0   \n",
       "14484                                    -73.0   \n",
       "\n",
       "       residential_percent_change_from_baseline  \n",
       "14860                                      34.0  \n",
       "15526                                       4.0  \n",
       "15821                                       2.0  \n",
       "15427                                      24.0  \n",
       "14484                                      29.0  "
      ]
     },
     "execution_count": 13,
     "metadata": {},
     "output_type": "execute_result"
    }
   ],
   "source": [
    "google_mobility_co.sample(n=5)"
   ]
  },
  {
   "cell_type": "code",
   "execution_count": 311,
   "metadata": {},
   "outputs": [],
   "source": [
    "# Save dataframe\n",
    "google_mobility_co.to_csv(os.path.join(OUTPUT_DIR, 'google_mobility_co_processed.csv'), index=False)"
   ]
  },
  {
   "cell_type": "markdown",
   "metadata": {},
   "source": [
    "### Exploratory Data Analisys"
   ]
  },
  {
   "cell_type": "markdown",
   "metadata": {},
   "source": [
    "#### Tipo de casos Nacionales"
   ]
  },
  {
   "cell_type": "markdown",
   "metadata": {},
   "source": [
    "Se obtiene la grafica de los tipos de casos a nivel nacional"
   ]
  },
  {
   "cell_type": "code",
   "execution_count": 132,
   "metadata": {},
   "outputs": [],
   "source": [
    "# Time line cases reported [date, cases, accum_cases]\n",
    "covid19co_time = pd.DataFrame(columns=['fecha', 'Importado', 'Relacionado','En Estudio', 'S.D.','Total','Acumulados'])\n",
    "covid19co_time['fecha'] = [dti.strftime('%d/%m/%Y') for dti in pd.date_range(start='2020-03-06', end=datetime.date.today().isoformat(), freq='D')]"
   ]
  },
  {
   "cell_type": "code",
   "execution_count": 133,
   "metadata": {},
   "outputs": [],
   "source": [
    "# Total Cases Reported By Date\n",
    "def get_total_cases_by_dates(dfreport):\n",
    "    total_cases_by_date = {}\n",
    "    # Group by 'FECHA REPORTE WEB'\n",
    "    group_by_date = dfreport.groupby(['FECHA REPORTE WEB'], sort=False)\n",
    "    # For each date\n",
    "    for date_report in group_by_date.groups.keys():\n",
    "        total_cases_by_date[date_report] = group_by_date.get_group(date_report)['ID DE CASO'].count()\n",
    "    # Return\n",
    "    return total_cases_by_date\n",
    "# Total cases reported by date\n",
    "total_cases_by_date = get_total_cases_by_dates(covid19co)\n",
    "\n",
    "# Update Total Cases Reported by Date\n",
    "covid19co_time['Total'] = covid19co_time['fecha'].transform(lambda date: total_cases_by_date[date] if date in total_cases_by_date else 0)\n",
    "\n",
    "# Update Accumulative Sum Cases Reported by Date\n",
    "covid19co_time['Acumulados'] = covid19co_time['Total'].cumsum()"
   ]
  },
  {
   "cell_type": "code",
   "execution_count": 134,
   "metadata": {},
   "outputs": [],
   "source": [
    "# Total Cases Reported By Date\n",
    "def get_total_cases_by_date(dfreport,columna,feature):\n",
    "    total_cases_by_date = {}\n",
    "    # Group by 'FECHA REPORTE WEB'\n",
    "    group_by_date = dfreport[dfreport[columna]==feature].groupby(['FECHA REPORTE WEB'], sort=False)\n",
    "    # For each date\n",
    "    for date_report in group_by_date.groups.keys():\n",
    "        total_cases_by_date[date_report] = group_by_date.get_group(date_report)['ID DE CASO'].count()\n",
    "    # Return\n",
    "    return total_cases_by_date\n"
   ]
  },
  {
   "cell_type": "code",
   "execution_count": 135,
   "metadata": {},
   "outputs": [],
   "source": [
    "for tipo in covid19co['TIPO'].unique():\n",
    "    total_cases_by_date = get_total_cases_by_date(covid19co,'TIPO',tipo)      \n",
    "    covid19co_time[tipo] = covid19co_time['fecha'].transform(lambda date: total_cases_by_date[date] if date in total_cases_by_date else 0)"
   ]
  },
  {
   "cell_type": "code",
   "execution_count": 136,
   "metadata": {},
   "outputs": [
    {
     "data": {
      "text/html": [
       "<div>\n",
       "<style scoped>\n",
       "    .dataframe tbody tr th:only-of-type {\n",
       "        vertical-align: middle;\n",
       "    }\n",
       "\n",
       "    .dataframe tbody tr th {\n",
       "        vertical-align: top;\n",
       "    }\n",
       "\n",
       "    .dataframe thead th {\n",
       "        text-align: right;\n",
       "    }\n",
       "</style>\n",
       "<table border=\"1\" class=\"dataframe\">\n",
       "  <thead>\n",
       "    <tr style=\"text-align: right;\">\n",
       "      <th></th>\n",
       "      <th>fecha</th>\n",
       "      <th>Importado</th>\n",
       "      <th>Relacionado</th>\n",
       "      <th>En Estudio</th>\n",
       "      <th>S.D.</th>\n",
       "      <th>Total</th>\n",
       "      <th>Acumulados</th>\n",
       "    </tr>\n",
       "  </thead>\n",
       "  <tbody>\n",
       "    <tr>\n",
       "      <th>13</th>\n",
       "      <td>19/03/2020</td>\n",
       "      <td>18</td>\n",
       "      <td>8</td>\n",
       "      <td>0</td>\n",
       "      <td>NaN</td>\n",
       "      <td>26</td>\n",
       "      <td>130</td>\n",
       "    </tr>\n",
       "    <tr>\n",
       "      <th>25</th>\n",
       "      <td>31/03/2020</td>\n",
       "      <td>44</td>\n",
       "      <td>47</td>\n",
       "      <td>16</td>\n",
       "      <td>NaN</td>\n",
       "      <td>107</td>\n",
       "      <td>905</td>\n",
       "    </tr>\n",
       "    <tr>\n",
       "      <th>34</th>\n",
       "      <td>09/04/2020</td>\n",
       "      <td>15</td>\n",
       "      <td>77</td>\n",
       "      <td>77</td>\n",
       "      <td>NaN</td>\n",
       "      <td>169</td>\n",
       "      <td>2223</td>\n",
       "    </tr>\n",
       "    <tr>\n",
       "      <th>18</th>\n",
       "      <td>24/03/2020</td>\n",
       "      <td>57</td>\n",
       "      <td>45</td>\n",
       "      <td>3</td>\n",
       "      <td>NaN</td>\n",
       "      <td>105</td>\n",
       "      <td>419</td>\n",
       "    </tr>\n",
       "    <tr>\n",
       "      <th>31</th>\n",
       "      <td>06/04/2020</td>\n",
       "      <td>8</td>\n",
       "      <td>29</td>\n",
       "      <td>57</td>\n",
       "      <td>NaN</td>\n",
       "      <td>94</td>\n",
       "      <td>1579</td>\n",
       "    </tr>\n",
       "  </tbody>\n",
       "</table>\n",
       "</div>"
      ],
      "text/plain": [
       "         fecha  Importado  Relacionado  En Estudio S.D.  Total  Acumulados\n",
       "13  19/03/2020         18            8           0  NaN     26         130\n",
       "25  31/03/2020         44           47          16  NaN    107         905\n",
       "34  09/04/2020         15           77          77  NaN    169        2223\n",
       "18  24/03/2020         57           45           3  NaN    105         419\n",
       "31  06/04/2020          8           29          57  NaN     94        1579"
      ]
     },
     "execution_count": 136,
     "metadata": {},
     "output_type": "execute_result"
    }
   ],
   "source": [
    "# Drop if doesn't have cases\n",
    "covid19co_time=covid19co_time[covid19co_time['Total']!=0]\n",
    "covid19co_time.sample(n=5)"
   ]
  },
  {
   "cell_type": "code",
   "execution_count": 137,
   "metadata": {},
   "outputs": [],
   "source": [
    "ImportadoBars = [i / j * 100 for i,j in zip(covid19co_time['Importado'], covid19co_time['Total'])  ]\n",
    "RelacionadoBars = [i / j * 100 for i,j in zip(covid19co_time['Relacionado'], covid19co_time['Total']) ]\n",
    "En_EstudioBars = [i / j * 100 for i,j in zip(covid19co_time['En Estudio'], covid19co_time['Total']) ]\n",
    "SDBars = [i / j * 100 for i,j in zip(covid19co_time['S.D.'], covid19co_time['Total']) ]"
   ]
  },
  {
   "cell_type": "code",
   "execution_count": 565,
   "metadata": {},
   "outputs": [
    {
     "data": {
      "image/png": "[encoded data removed]",
      "text/plain": [
       "<Figure size 432x288 with 1 Axes>"
      ]
     },
     "metadata": {
      "needs_background": "light"
     },
     "output_type": "display_data"
    }
   ],
   "source": [
    "fig, ax = plt.subplots()\n",
    "# plot\n",
    "barWidth = 0.8\n",
    "names = tuple(list(covid19co_time['fecha']))\n",
    "r=[i for i in range (len(names))]\n",
    "# Create ImportadoBars\n",
    "plt.bar(r, ImportadoBars, color='#b5ffb9', edgecolor='white', width=barWidth, label='Importado')\n",
    "# Create RelacionadoBars Bars\n",
    "plt.bar(r, RelacionadoBars, bottom=ImportadoBars, color='#f9bc86', edgecolor='white', width=barWidth, label='Relacionado')\n",
    "# Create En_EstudioBars Bars\n",
    "plt.bar(r, En_EstudioBars, bottom=[i+j for i,j in zip(ImportadoBars, RelacionadoBars)], color='#a3acff', edgecolor='white', width=barWidth, label='En Estudio')\n",
    "# Create En_EstudioBars Bars\n",
    "#plt.bar(r, SDBars, bottom=[i+j+k for i,j,k in zip(ImportadoBars, RelacionadoBars,En_EstudioBars)], color='#e377c2', edgecolor='white', width=barWidth, label='S.D.')\n",
    "\n",
    "# Custom x axis\n",
    "plt.xlabel(\"Dias\")\n",
    "\n",
    "plt.ylabel(\"Porcentaje Tipos\")\n",
    "# Add a legend\n",
    "plt.legend(loc='upper left', bbox_to_anchor=(1,1), ncol=1)\n",
    "plt.title('Tipo de Casos Historicos')\n",
    "# Show graphic\n",
    "plt.show()"
   ]
  },
  {
   "cell_type": "code",
   "execution_count": 567,
   "metadata": {},
   "outputs": [
    {
     "data": {
      "text/plain": [
       "array(['Recuperado', 'Casa', 'Fallecido', 'Hospital Uci', 'Hospital', '-'],\n",
       "      dtype=object)"
      ]
     },
     "execution_count": 567,
     "metadata": {},
     "output_type": "execute_result"
    }
   ],
   "source": [
    "covid19co['ATENCION'].unique()"
   ]
  },
  {
   "cell_type": "code",
   "execution_count": 568,
   "metadata": {},
   "outputs": [],
   "source": [
    "# Time line cases reported [date, cases, accum_cases]\n",
    "covid19co_time_h = pd.DataFrame(columns=['fecha', 'Hospital Uci', 'Hospital'])\n",
    "covid19co_time_h['fecha'] = [dti.strftime('%d/%m/%Y') for dti in pd.date_range(start='2020-03-06', end=datetime.date.today().isoformat(), freq='D')]"
   ]
  },
  {
   "cell_type": "code",
   "execution_count": 570,
   "metadata": {},
   "outputs": [],
   "source": [
    "def get_total_cases_by_date(dfreport,columna,feature):\n",
    "    total_cases_by_date = {}\n",
    "    # Group by 'FECHA REPORTE WEB'\n",
    "    group_by_date = dfreport[dfreport[columna]==feature].groupby(['FECHA REPORTE WEB'], sort=False)\n",
    "    # For each date\n",
    "    for date_report in group_by_date.groups.keys():\n",
    "        total_cases_by_date[date_report] = group_by_date.get_group(date_report)['ID DE CASO'].count()\n",
    "    # Return\n",
    "    return total_cases_by_date"
   ]
  },
  {
   "cell_type": "code",
   "execution_count": 571,
   "metadata": {},
   "outputs": [],
   "source": [
    "H=['Hospital Uci', 'Hospital']\n",
    "for h in H:\n",
    "    total_cases_by_date = get_total_cases_by_date(covid19co,'ATENCION',h)      \n",
    "    covid19co_time_h[h] = covid19co_time['fecha'].transform(lambda date: total_cases_by_date[date] if date in total_cases_by_date else 0)"
   ]
  },
  {
   "cell_type": "code",
   "execution_count": 573,
   "metadata": {},
   "outputs": [
    {
     "data": {
      "text/html": [
       "<div>\n",
       "<style scoped>\n",
       "    .dataframe tbody tr th:only-of-type {\n",
       "        vertical-align: middle;\n",
       "    }\n",
       "\n",
       "    .dataframe tbody tr th {\n",
       "        vertical-align: top;\n",
       "    }\n",
       "\n",
       "    .dataframe thead th {\n",
       "        text-align: right;\n",
       "    }\n",
       "</style>\n",
       "<table border=\"1\" class=\"dataframe\">\n",
       "  <thead>\n",
       "    <tr style=\"text-align: right;\">\n",
       "      <th></th>\n",
       "      <th>fecha</th>\n",
       "      <th>Hospital Uci</th>\n",
       "      <th>Hospital</th>\n",
       "    </tr>\n",
       "  </thead>\n",
       "  <tbody>\n",
       "    <tr>\n",
       "      <th>0</th>\n",
       "      <td>06/03/2020</td>\n",
       "      <td>0.0</td>\n",
       "      <td>0.0</td>\n",
       "    </tr>\n",
       "    <tr>\n",
       "      <th>1</th>\n",
       "      <td>07/03/2020</td>\n",
       "      <td>NaN</td>\n",
       "      <td>NaN</td>\n",
       "    </tr>\n",
       "    <tr>\n",
       "      <th>2</th>\n",
       "      <td>08/03/2020</td>\n",
       "      <td>NaN</td>\n",
       "      <td>NaN</td>\n",
       "    </tr>\n",
       "    <tr>\n",
       "      <th>3</th>\n",
       "      <td>09/03/2020</td>\n",
       "      <td>0.0</td>\n",
       "      <td>0.0</td>\n",
       "    </tr>\n",
       "    <tr>\n",
       "      <th>4</th>\n",
       "      <td>10/03/2020</td>\n",
       "      <td>NaN</td>\n",
       "      <td>NaN</td>\n",
       "    </tr>\n",
       "    <tr>\n",
       "      <th>5</th>\n",
       "      <td>11/03/2020</td>\n",
       "      <td>0.0</td>\n",
       "      <td>0.0</td>\n",
       "    </tr>\n",
       "    <tr>\n",
       "      <th>6</th>\n",
       "      <td>12/03/2020</td>\n",
       "      <td>0.0</td>\n",
       "      <td>0.0</td>\n",
       "    </tr>\n",
       "    <tr>\n",
       "      <th>7</th>\n",
       "      <td>13/03/2020</td>\n",
       "      <td>0.0</td>\n",
       "      <td>0.0</td>\n",
       "    </tr>\n",
       "    <tr>\n",
       "      <th>8</th>\n",
       "      <td>14/03/2020</td>\n",
       "      <td>0.0</td>\n",
       "      <td>0.0</td>\n",
       "    </tr>\n",
       "    <tr>\n",
       "      <th>9</th>\n",
       "      <td>15/03/2020</td>\n",
       "      <td>0.0</td>\n",
       "      <td>0.0</td>\n",
       "    </tr>\n",
       "    <tr>\n",
       "      <th>10</th>\n",
       "      <td>16/03/2020</td>\n",
       "      <td>0.0</td>\n",
       "      <td>0.0</td>\n",
       "    </tr>\n",
       "    <tr>\n",
       "      <th>11</th>\n",
       "      <td>17/03/2020</td>\n",
       "      <td>0.0</td>\n",
       "      <td>0.0</td>\n",
       "    </tr>\n",
       "  </tbody>\n",
       "</table>\n",
       "</div>"
      ],
      "text/plain": [
       "         fecha  Hospital Uci  Hospital\n",
       "0   06/03/2020           0.0       0.0\n",
       "1   07/03/2020           NaN       NaN\n",
       "2   08/03/2020           NaN       NaN\n",
       "3   09/03/2020           0.0       0.0\n",
       "4   10/03/2020           NaN       NaN\n",
       "5   11/03/2020           0.0       0.0\n",
       "6   12/03/2020           0.0       0.0\n",
       "7   13/03/2020           0.0       0.0\n",
       "8   14/03/2020           0.0       0.0\n",
       "9   15/03/2020           0.0       0.0\n",
       "10  16/03/2020           0.0       0.0\n",
       "11  17/03/2020           0.0       0.0"
      ]
     },
     "execution_count": 573,
     "metadata": {},
     "output_type": "execute_result"
    }
   ],
   "source": [
    "covid19co_time_h[0:12]"
   ]
  },
  {
   "cell_type": "code",
   "execution_count": 575,
   "metadata": {},
   "outputs": [],
   "source": [
    "covid19co_time_h=covid19co_time_h[4:56].set_index('fecha')"
   ]
  },
  {
   "cell_type": "markdown",
   "metadata": {},
   "source": [
    "#### Personal de salud"
   ]
  },
  {
   "cell_type": "markdown",
   "metadata": {},
   "source": [
    "Se realiza un analisis del personal de salud en Colombia relacionado con los boletines en imagen que da en INS, por tal los datos deben agregarse de forma manual"
   ]
  },
  {
   "cell_type": "code",
   "execution_count": 578,
   "metadata": {},
   "outputs": [],
   "source": [
    "# Time line cases reported [date, cases, accum_cases]\n",
    "Personal_de_Salud = pd.DataFrame(columns=['Fecha','Casos'])\n",
    "Personal_de_Salud['Fecha'] = [dti.strftime('%d/%m/%Y') for dti in pd.date_range(start='2020-03-10', end='2020-04-30', freq='D')]"
   ]
  },
  {
   "cell_type": "code",
   "execution_count": null,
   "metadata": {},
   "outputs": [],
   "source": [
    "# Time line cases reported [date, cases, accum_cases]\n",
    "Personal_de_Salud = pd.DataFrame(columns=['Fecha'])\n",
    "Personal_de_Salud['Fecha'] = [dti.strftime('%d/%m/%Y') for dti in pd.date_range(start='2020-02-15', end='2020-04-25', freq='7D')]"
   ]
  },
  {
   "cell_type": "code",
   "execution_count": 581,
   "metadata": {},
   "outputs": [],
   "source": [
    "Personal_de_Salud['Casos'][0:3]=0\n",
    "Personal_de_Salud['Casos'][3]=1\n",
    "Personal_de_Salud['Casos'][4]=1\n",
    "Personal_de_Salud['Casos'][5]=0\n",
    "Personal_de_Salud['Casos'][6]=3\n",
    "Personal_de_Salud['Casos'][7]=8\n",
    "Personal_de_Salud['Casos'][8]=7\n",
    "Personal_de_Salud['Casos'][9]=9\n",
    "Personal_de_Salud['Casos'][10]=5\n",
    "Personal_de_Salud['Casos'][11]=10\n",
    "Personal_de_Salud['Casos'][12]=8\n",
    "Personal_de_Salud['Casos'][13]=8\n",
    "Personal_de_Salud['Casos'][14]=9\n",
    "Personal_de_Salud['Casos'][15]=9\n",
    "Personal_de_Salud['Casos'][16]=10\n",
    "Personal_de_Salud['Casos'][17]=19\n",
    "Personal_de_Salud['Casos'][18]=6\n",
    "Personal_de_Salud['Casos'][19]=3\n",
    "Personal_de_Salud['Casos'][20]=14\n",
    "Personal_de_Salud['Casos'][21]=4\n",
    "Personal_de_Salud['Casos'][22]=13\n",
    "Personal_de_Salud['Casos'][23]=11\n",
    "Personal_de_Salud['Casos'][24]=6\n",
    "Personal_de_Salud['Casos'][25]=8\n",
    "Personal_de_Salud['Casos'][26]=5\n",
    "Personal_de_Salud['Casos'][27]=8\n",
    "Personal_de_Salud['Casos'][28]=6\n",
    "Personal_de_Salud['Casos'][29]=12\n",
    "Personal_de_Salud['Casos'][30]=10\n",
    "Personal_de_Salud['Casos'][31]=13\n",
    "Personal_de_Salud['Casos'][32]=17\n",
    "Personal_de_Salud['Casos'][33]=17\n",
    "Personal_de_Salud['Casos'][34]=14\n",
    "Personal_de_Salud['Casos'][35]=26\n",
    "Personal_de_Salud['Casos'][36]=8\n",
    "Personal_de_Salud['Casos'][37]=6\n",
    "Personal_de_Salud['Casos'][38]=4\n",
    "Personal_de_Salud['Casos'][39]=28\n",
    "Personal_de_Salud['Casos'][40]=14\n",
    "Personal_de_Salud['Casos'][41]=4\n",
    "Personal_de_Salud['Casos'][42]=3\n",
    "Personal_de_Salud['Casos'][43]=1\n",
    "Personal_de_Salud['Casos'][44:53]=0\n"
   ]
  },
  {
   "cell_type": "code",
   "execution_count": 582,
   "metadata": {},
   "outputs": [],
   "source": [
    "Personal_de_Salud=Personal_de_Salud.set_index('Fecha')"
   ]
  },
  {
   "cell_type": "code",
   "execution_count": 591,
   "metadata": {},
   "outputs": [
    {
     "data": {
      "text/html": [
       "<div>\n",
       "<style scoped>\n",
       "    .dataframe tbody tr th:only-of-type {\n",
       "        vertical-align: middle;\n",
       "    }\n",
       "\n",
       "    .dataframe tbody tr th {\n",
       "        vertical-align: top;\n",
       "    }\n",
       "\n",
       "    .dataframe thead th {\n",
       "        text-align: right;\n",
       "    }\n",
       "</style>\n",
       "<table border=\"1\" class=\"dataframe\">\n",
       "  <thead>\n",
       "    <tr style=\"text-align: right;\">\n",
       "      <th></th>\n",
       "      <th>Casos</th>\n",
       "    </tr>\n",
       "  </thead>\n",
       "  <tbody>\n",
       "    <tr>\n",
       "      <th>count</th>\n",
       "      <td>45.000000</td>\n",
       "    </tr>\n",
       "    <tr>\n",
       "      <th>mean</th>\n",
       "      <td>8.177778</td>\n",
       "    </tr>\n",
       "    <tr>\n",
       "      <th>std</th>\n",
       "      <td>6.446595</td>\n",
       "    </tr>\n",
       "    <tr>\n",
       "      <th>min</th>\n",
       "      <td>0.000000</td>\n",
       "    </tr>\n",
       "    <tr>\n",
       "      <th>25%</th>\n",
       "      <td>4.000000</td>\n",
       "    </tr>\n",
       "    <tr>\n",
       "      <th>50%</th>\n",
       "      <td>8.000000</td>\n",
       "    </tr>\n",
       "    <tr>\n",
       "      <th>75%</th>\n",
       "      <td>11.000000</td>\n",
       "    </tr>\n",
       "    <tr>\n",
       "      <th>max</th>\n",
       "      <td>28.000000</td>\n",
       "    </tr>\n",
       "  </tbody>\n",
       "</table>\n",
       "</div>"
      ],
      "text/plain": [
       "           Casos\n",
       "count  45.000000\n",
       "mean    8.177778\n",
       "std     6.446595\n",
       "min     0.000000\n",
       "25%     4.000000\n",
       "50%     8.000000\n",
       "75%    11.000000\n",
       "max    28.000000"
      ]
     },
     "execution_count": 591,
     "metadata": {},
     "output_type": "execute_result"
    }
   ],
   "source": [
    "Personal_de_Salud[0:45].astype(str).astype(int).describe()"
   ]
  },
  {
   "cell_type": "code",
   "execution_count": 583,
   "metadata": {},
   "outputs": [
    {
     "data": {
      "image/png": "[encoded data removed]",
      "text/plain": [
       "<Figure size 360x504 with 2 Axes>"
      ]
     },
     "metadata": {
      "needs_background": "light"
     },
     "output_type": "display_data"
    }
   ],
   "source": [
    "fig, (ax1, ax2) = plt.subplots(2, 1, figsize=(5,7))\n",
    "covid19co_time_h.plot(ax=ax1) \n",
    "fig.autofmt_xdate()\n",
    "plt.xlabel(\"Fecha\")\n",
    "plt.ylabel(\"Casos Nuevos\")\n",
    "\n",
    "\n",
    "Personal_de_Salud.plot(ax=ax2) \n",
    "fig.autofmt_xdate()\n",
    "plt.xlabel(\"Fecha\")\n",
    "plt.ylabel(\"Casos Nuevos\")\n",
    "plt.show()"
   ]
  },
  {
   "cell_type": "markdown",
   "metadata": {},
   "source": [
    "#### Reporte de muestras"
   ]
  },
  {
   "cell_type": "markdown",
   "metadata": {},
   "source": [
    "Analisis de la cantidad de muestras procesadas respecto a los casos confirmados"
   ]
  },
  {
   "cell_type": "code",
   "execution_count": 139,
   "metadata": {},
   "outputs": [],
   "source": [
    "# Time line cases reported [date, cases, accum_cases]\n",
    "covid19co_muestras = pd.DataFrame(columns=['fecha', 'Casos', 'Muestras'])\n",
    "covid19co_muestras['fecha'] = [dti.strftime('%d/%m/%Y') for dti in pd.date_range(start='2020-03-4', end=datetime.date.today().isoformat(), freq='D')]"
   ]
  },
  {
   "cell_type": "code",
   "execution_count": 140,
   "metadata": {},
   "outputs": [],
   "source": [
    "def get_total_cases_by_dates_diag(dfreport):\n",
    "    total_cases_by_date = {}\n",
    "    # Group by 'FECHA REPORTE WEB'\n",
    "    group_by_date = dfreport.groupby(['FECHA DIAGNOSTICO'], sort=False)\n",
    "    # For each date\n",
    "    for date_report in group_by_date.groups.keys():\n",
    "        total_cases_by_date[date_report] = group_by_date.get_group(date_report)['ID DE CASO'].count()\n",
    "    # Return\n",
    "    return total_cases_by_date\n",
    "# Total cases reported by date\n",
    "total_cases_by_date = get_total_cases_by_dates_diag(covid19co)"
   ]
  },
  {
   "cell_type": "code",
   "execution_count": 141,
   "metadata": {},
   "outputs": [],
   "source": [
    "#Muestras diarias procesadas\n",
    "covid19co_samples_processed['MUESTRAS PROCESADAS POR CORTE']=covid19co_samples_processed['MUESTRAS PROCESADAS POR CORTE'].astype(str).astype(int)\n",
    "Primer=covid19co_samples_processed['MUESTRAS PROCESADAS POR CORTE'][0]\n",
    "data=[covid19co_samples_processed['MUESTRAS PROCESADAS POR CORTE'][i]-covid19co_samples_processed['MUESTRAS PROCESADAS POR CORTE'][i-1] for i in range (1,len(covid19co_samples_processed['MUESTRAS PROCESADAS POR CORTE']))]\n",
    "data.insert(0,Primer)\n",
    "covid19co_samples_processed.insert(1,\"Diarias\",data)"
   ]
  },
  {
   "cell_type": "code",
   "execution_count": 142,
   "metadata": {},
   "outputs": [],
   "source": [
    "# Update Total Cases Reported by Date\n",
    "covid19co_muestras['Casos'] = covid19co_muestras['fecha'].transform(lambda date: total_cases_by_date[date] if date in total_cases_by_date else 0)\n",
    "covid19co_muestras['Muestras']=covid19co_samples_processed[\"Diarias\"]"
   ]
  },
  {
   "cell_type": "code",
   "execution_count": 143,
   "metadata": {},
   "outputs": [],
   "source": [
    "CasosBars = [i / j * 100 for i,j in zip(covid19co_muestras['Casos'], covid19co_muestras['Muestras'])]\n",
    "NoCasosBars = [(j-i) / j * 100 for i,j in zip(covid19co_muestras['Casos'], covid19co_muestras['Muestras'])]"
   ]
  },
  {
   "cell_type": "code",
   "execution_count": 535,
   "metadata": {
    "scrolled": true
   },
   "outputs": [
    {
     "data": {
      "image/png": "[encoded data removed]",
      "text/plain": [
       "<Figure size 432x288 with 2 Axes>"
      ]
     },
     "metadata": {
      "needs_background": "light"
     },
     "output_type": "display_data"
    }
   ],
   "source": [
    "# plot\n",
    "barWidth = 0.9\n",
    "names = tuple(list(covid19co_muestras['fecha']))\n",
    "r=[i for i in range (len(names))]\n",
    "# Create ImportadoBars\n",
    "plt.subplot(2,1,1)\n",
    "plt.title(\"Descripcion de las Muestras Procesadas\")\n",
    "plt.bar(r, CasosBars, color='#b5ffb9', edgecolor='white', width=barWidth, label='Positivos')\n",
    "# Create RelacionadoBars Bars\n",
    "plt.bar(r, NoCasosBars, bottom=CasosBars, color='#f9bc86', edgecolor='white', width=barWidth, label='Negativos')\n",
    "\n",
    "# Custom x axis\n",
    "#plt.xticks(r, names)\n",
    "plt.xlabel(\"Dias\")\n",
    "\n",
    "plt.ylabel(\" % Resultados\")\n",
    "# Add a legend\n",
    "plt.legend(loc='upper left', bbox_to_anchor=(1,1), ncol=1)\n",
    " \n",
    "# plot\n",
    "barWidth = 0.9\n",
    "names = tuple(list(covid19co_muestras['fecha']))\n",
    "r=[i for i in range (len(names))]\n",
    "plt.subplot(2,1,2)\n",
    "# Create ImportadoBars\n",
    "plt.bar(r, list(covid19co_muestras['Muestras']), color='red', edgecolor='white', width=barWidth)\n",
    "# Custom x axis\n",
    "#plt.xticks(r, names)\n",
    "plt.xlabel(\"Dias\")\n",
    "\n",
    "#plt.xticks(r, names)\n",
    "plt.ylabel(\"Muestras Diarias\")\n",
    "\n",
    "\n",
    "\n",
    "# Show graphic\n",
    "\n",
    "plt.show()"
   ]
  },
  {
   "cell_type": "code",
   "execution_count": 146,
   "metadata": {},
   "outputs": [],
   "source": [
    "covid19co_muestras.insert(3,\"Porcentaje Positivos\",CasosBars)"
   ]
  },
  {
   "cell_type": "markdown",
   "metadata": {},
   "source": [
    "Analisis estadistico pruebas "
   ]
  },
  {
   "cell_type": "code",
   "execution_count": 147,
   "metadata": {},
   "outputs": [
    {
     "data": {
      "text/plain": [
       "count    60.000000\n",
       "mean      6.082991\n",
       "std       4.252181\n",
       "min       0.000000\n",
       "25%       3.382987\n",
       "50%       5.389799\n",
       "75%       8.203458\n",
       "max      19.466667\n",
       "Name: Porcentaje Positivos, dtype: float64"
      ]
     },
     "execution_count": 147,
     "metadata": {},
     "output_type": "execute_result"
    }
   ],
   "source": [
    "covid19co_muestras[\"Porcentaje Positivos\"].describe()"
   ]
  },
  {
   "cell_type": "markdown",
   "metadata": {},
   "source": [
    "#### Crecimiento de los casos positivos"
   ]
  },
  {
   "cell_type": "markdown",
   "metadata": {},
   "source": [
    "El analisis de crecimiento de casos se realiza por emdo de la curva de Aatishb\n",
    "\n",
    "Crecimiento de casos\n",
    "https://www.youtube.com/watch?v=54XLXg4fYsc&feature=youtu.be"
   ]
  },
  {
   "cell_type": "code",
   "execution_count": 402,
   "metadata": {},
   "outputs": [],
   "source": [
    "# Time line cases reported [date, cases, accum_cases]\n",
    "covid19co_progreso = pd.DataFrame(columns=['Fecha', 'Acumulados'])\n",
    "covid19co_progreso['Fecha'] = [dti.strftime('%d/%m/%Y') for dti in pd.date_range(start='2020-03-6', end=datetime.date.today().isoformat(), freq='7D')]"
   ]
  },
  {
   "cell_type": "code",
   "execution_count": 403,
   "metadata": {},
   "outputs": [],
   "source": [
    "covid19co_progreso['Acumulados']=covid19co_progreso['Fecha'].transform(lambda date : list(covid19co_time['Acumulados'][covid19co_time.index[covid19co_time['fecha']==date]])[0])"
   ]
  },
  {
   "cell_type": "code",
   "execution_count": 404,
   "metadata": {},
   "outputs": [],
   "source": [
    "Primer_1=covid19co_progreso['Acumulados'][0]\n",
    "data_1=[covid19co_progreso['Acumulados'][i]-covid19co_progreso['Acumulados'][i-1] for i in range (1,len(covid19co_progreso['Acumulados']))]\n",
    "data_1.insert(0,Primer_1)\n",
    "covid19co_progreso.insert(1,\"Nuevos Semana\",data_1)"
   ]
  },
  {
   "cell_type": "code",
   "execution_count": 533,
   "metadata": {},
   "outputs": [
    {
     "data": {
      "image/png": "[encoded data removed]",
      "text/plain": [
       "<Figure size 432x288 with 1 Axes>"
      ]
     },
     "metadata": {
      "needs_background": "light"
     },
     "output_type": "display_data"
    }
   ],
   "source": [
    "# plot\n",
    "\n",
    "x=list(covid19co_progreso['Acumulados'])\n",
    "y=list(covid19co_progreso['Nuevos Semana'])\n",
    "\n",
    "plt.loglog(x, y)\n",
    "plt.grid(True, which=\"both\", ls=\"-\")\n",
    "plt.plot(x,y,'bo-')\n",
    "\n",
    "# Custom  axis\n",
    "plt.xlabel(\"Casos Acumulados\")\n",
    "plt.ylabel(\"Nuevos Casos Semanales\")\n",
    "plt.title('Trayectoria de Casos Reportados')\n",
    "\n",
    "plt.show()"
   ]
  },
  {
   "cell_type": "markdown",
   "metadata": {},
   "source": [
    "#### Casos historicos Acumulados"
   ]
  },
  {
   "cell_type": "code",
   "execution_count": 406,
   "metadata": {},
   "outputs": [
    {
     "data": {
      "text/html": [
       "<div>\n",
       "<style scoped>\n",
       "    .dataframe tbody tr th:only-of-type {\n",
       "        vertical-align: middle;\n",
       "    }\n",
       "\n",
       "    .dataframe tbody tr th {\n",
       "        vertical-align: top;\n",
       "    }\n",
       "\n",
       "    .dataframe thead th {\n",
       "        text-align: right;\n",
       "    }\n",
       "</style>\n",
       "<table border=\"1\" class=\"dataframe\">\n",
       "  <thead>\n",
       "    <tr style=\"text-align: right;\">\n",
       "      <th></th>\n",
       "      <th>Fecha</th>\n",
       "      <th>Nuevos Semana</th>\n",
       "      <th>Acumulados</th>\n",
       "    </tr>\n",
       "  </thead>\n",
       "  <tbody>\n",
       "    <tr>\n",
       "      <th>0</th>\n",
       "      <td>06/03/2020</td>\n",
       "      <td>1</td>\n",
       "      <td>1</td>\n",
       "    </tr>\n",
       "    <tr>\n",
       "      <th>1</th>\n",
       "      <td>13/03/2020</td>\n",
       "      <td>18</td>\n",
       "      <td>19</td>\n",
       "    </tr>\n",
       "    <tr>\n",
       "      <th>2</th>\n",
       "      <td>20/03/2020</td>\n",
       "      <td>159</td>\n",
       "      <td>178</td>\n",
       "    </tr>\n",
       "    <tr>\n",
       "      <th>3</th>\n",
       "      <td>27/03/2020</td>\n",
       "      <td>361</td>\n",
       "      <td>539</td>\n",
       "    </tr>\n",
       "    <tr>\n",
       "      <th>4</th>\n",
       "      <td>03/04/2020</td>\n",
       "      <td>727</td>\n",
       "      <td>1266</td>\n",
       "    </tr>\n",
       "    <tr>\n",
       "      <th>5</th>\n",
       "      <td>10/04/2020</td>\n",
       "      <td>1208</td>\n",
       "      <td>2474</td>\n",
       "    </tr>\n",
       "    <tr>\n",
       "      <th>6</th>\n",
       "      <td>17/04/2020</td>\n",
       "      <td>962</td>\n",
       "      <td>3436</td>\n",
       "    </tr>\n",
       "    <tr>\n",
       "      <th>7</th>\n",
       "      <td>24/04/2020</td>\n",
       "      <td>1443</td>\n",
       "      <td>4879</td>\n",
       "    </tr>\n",
       "    <tr>\n",
       "      <th>8</th>\n",
       "      <td>01/05/2020</td>\n",
       "      <td>2127</td>\n",
       "      <td>7006</td>\n",
       "    </tr>\n",
       "  </tbody>\n",
       "</table>\n",
       "</div>"
      ],
      "text/plain": [
       "        Fecha  Nuevos Semana  Acumulados\n",
       "0  06/03/2020              1           1\n",
       "1  13/03/2020             18          19\n",
       "2  20/03/2020            159         178\n",
       "3  27/03/2020            361         539\n",
       "4  03/04/2020            727        1266\n",
       "5  10/04/2020           1208        2474\n",
       "6  17/04/2020            962        3436\n",
       "7  24/04/2020           1443        4879\n",
       "8  01/05/2020           2127        7006"
      ]
     },
     "execution_count": 406,
     "metadata": {},
     "output_type": "execute_result"
    }
   ],
   "source": [
    "covid19co_progreso"
   ]
  },
  {
   "cell_type": "code",
   "execution_count": 531,
   "metadata": {},
   "outputs": [
    {
     "data": {
      "image/png": "[encoded data removed]",
      "text/plain": [
       "<Figure size 432x288 with 1 Axes>"
      ]
     },
     "metadata": {
      "needs_background": "light"
     },
     "output_type": "display_data"
    }
   ],
   "source": [
    "fig, ax = plt.subplots()\n",
    "covid19co_time['Acumulados'].plot(ax=ax, color='blue')\n",
    "\n",
    "\n",
    "names=[dti.strftime('%d/%m/%Y') for dti in pd.date_range(start='2020-03-6', end=datetime.date.today().isoformat(), freq='5D')]\n",
    "n=len(names)\n",
    "number=[i for i in range (1,len(names))]\n",
    "plt.xticks(number,(0,)+tuple(names))\n",
    "fig.autofmt_xdate()\n",
    "ax.xaxis.set_major_locator(plt.MaxNLocator(n+1))\n",
    "\n",
    "plt.xlabel(\"Fecha\")\n",
    "plt.ylabel(\"Casos Acumulados\")\n",
    "plt.title('Historico de Casos Reportados')\n",
    "plt.show()"
   ]
  },
  {
   "cell_type": "markdown",
   "metadata": {},
   "source": [
    "#### Analisis de movilidad en el caso Colombia"
   ]
  },
  {
   "cell_type": "code",
   "execution_count": null,
   "metadata": {},
   "outputs": [],
   "source": [
    "#google_mobility_co=google_mobility_co.set_index('date')"
   ]
  },
  {
   "cell_type": "code",
   "execution_count": 302,
   "metadata": {},
   "outputs": [
    {
     "data": {
      "image/png": "[encoded data removed]",
      "text/plain": [
       "<Figure size 432x288 with 1 Axes>"
      ]
     },
     "metadata": {
      "needs_background": "light"
     },
     "output_type": "display_data"
    }
   ],
   "source": [
    "fig, ax = plt.subplots()\n",
    "google_mobility_co['residential_percent_change_from_baseline'][0:72].plot(ax=ax, color='blue')\n",
    "fig.autofmt_xdate()\n",
    "plt.xlabel(\"Fecha\")\n",
    "plt.ylabel(\"Cambio Porcentual de Permanencia en el Hogar\")\n",
    "plt.show()\n"
   ]
  },
  {
   "cell_type": "code",
   "execution_count": 303,
   "metadata": {},
   "outputs": [
    {
     "data": {
      "image/png": "[encoded data removed]",
      "text/plain": [
       "<Figure size 432x288 with 1 Axes>"
      ]
     },
     "metadata": {
      "needs_background": "light"
     },
     "output_type": "display_data"
    }
   ],
   "source": [
    "fig, ax = plt.subplots()\n",
    "google_mobility_co['workplaces_percent_change_from_baseline'][0:72].plot(ax=ax, color='blue')\n",
    "fig.autofmt_xdate()\n",
    "plt.xlabel(\"Fecha\")\n",
    "plt.ylabel(\"Cambio Porcentual de Asistencia al Trabajo\")\n",
    "plt.show()"
   ]
  },
  {
   "cell_type": "markdown",
   "metadata": {},
   "source": [
    "Para tener una mejor visualizacion se promedia los datos de forma semanal, de esta forma se suaviza la grafica"
   ]
  },
  {
   "cell_type": "code",
   "execution_count": 382,
   "metadata": {},
   "outputs": [],
   "source": [
    "# Time line cases reported [date, cases, accum_cases]\n",
    "Movility_Colombia_Prom = pd.DataFrame(columns=['Fecha'])\n",
    "Movility_Colombia_Prom['Fecha'] = [dti.strftime('%d/%m/%Y') for dti in pd.date_range(start='2020-02-15', end='2020-04-25', freq='7D')]"
   ]
  },
  {
   "cell_type": "code",
   "execution_count": 383,
   "metadata": {},
   "outputs": [],
   "source": [
    "Primer_2=list([google_mobility_co['workplaces_percent_change_from_baseline'][i:i+7] for i in range (0,70,7)][0])[0]\n",
    "data_2=[[list([google_mobility_co['workplaces_percent_change_from_baseline'][i:i+7].cumsum() for i in range (0,70,7)][i]) for i in range (10)][i][6]/7 for i in range (10)]\n",
    "data_2.insert(0,Primer_2)\n",
    "data_2\n",
    "Movility_Colombia_Prom.insert(1,'Cambio Porcentual Asistencia Trabajo',data_2)"
   ]
  },
  {
   "cell_type": "code",
   "execution_count": null,
   "metadata": {},
   "outputs": [],
   "source": [
    "Movility_Colombia_Prom=Movility_Colombia_Prom.set_index('Fecha')"
   ]
  },
  {
   "cell_type": "code",
   "execution_count": 386,
   "metadata": {},
   "outputs": [
    {
     "data": {
      "image/png": "[encoded data removed]",
      "text/plain": [
       "<Figure size 432x288 with 1 Axes>"
      ]
     },
     "metadata": {
      "needs_background": "light"
     },
     "output_type": "display_data"
    }
   ],
   "source": [
    "#Movility_Colombia_Prom=Movility_Colombia_Prom.set_index('Fecha')\n",
    "fig, ax = plt.subplots()\n",
    "Movility_Colombia_Prom['Cambio Porcentual Asistencia Trabajo'].plot(ax=ax, color='blue')\n",
    "fig.autofmt_xdate()\n",
    "plt.xlabel(\"Fecha\")\n",
    "plt.ylabel(\"Cambio Porcentual de Asistencia al Trabajo\")\n",
    "plt.show()"
   ]
  },
  {
   "cell_type": "code",
   "execution_count": 390,
   "metadata": {},
   "outputs": [
    {
     "data": {
      "text/html": [
       "<div>\n",
       "<style scoped>\n",
       "    .dataframe tbody tr th:only-of-type {\n",
       "        vertical-align: middle;\n",
       "    }\n",
       "\n",
       "    .dataframe tbody tr th {\n",
       "        vertical-align: top;\n",
       "    }\n",
       "\n",
       "    .dataframe thead th {\n",
       "        text-align: right;\n",
       "    }\n",
       "</style>\n",
       "<table border=\"1\" class=\"dataframe\">\n",
       "  <thead>\n",
       "    <tr style=\"text-align: right;\">\n",
       "      <th></th>\n",
       "      <th>Cambio Porcentual Asistencia Trabajo</th>\n",
       "      <th>Cambio Porcentual Permanencia en Casa</th>\n",
       "    </tr>\n",
       "    <tr>\n",
       "      <th>Fecha</th>\n",
       "      <th></th>\n",
       "      <th></th>\n",
       "    </tr>\n",
       "  </thead>\n",
       "  <tbody>\n",
       "    <tr>\n",
       "      <th>15/02/2020</th>\n",
       "      <td>7.000000</td>\n",
       "      <td>1.000000</td>\n",
       "    </tr>\n",
       "    <tr>\n",
       "      <th>22/02/2020</th>\n",
       "      <td>10.428571</td>\n",
       "      <td>-0.428571</td>\n",
       "    </tr>\n",
       "    <tr>\n",
       "      <th>29/02/2020</th>\n",
       "      <td>10.285714</td>\n",
       "      <td>-0.714286</td>\n",
       "    </tr>\n",
       "    <tr>\n",
       "      <th>07/03/2020</th>\n",
       "      <td>14.142857</td>\n",
       "      <td>-1.571429</td>\n",
       "    </tr>\n",
       "    <tr>\n",
       "      <th>14/03/2020</th>\n",
       "      <td>13.285714</td>\n",
       "      <td>-0.714286</td>\n",
       "    </tr>\n",
       "    <tr>\n",
       "      <th>21/03/2020</th>\n",
       "      <td>-13.714286</td>\n",
       "      <td>9.428571</td>\n",
       "    </tr>\n",
       "    <tr>\n",
       "      <th>28/03/2020</th>\n",
       "      <td>-69.571429</td>\n",
       "      <td>32.571429</td>\n",
       "    </tr>\n",
       "    <tr>\n",
       "      <th>04/04/2020</th>\n",
       "      <td>-69.714286</td>\n",
       "      <td>32.571429</td>\n",
       "    </tr>\n",
       "    <tr>\n",
       "      <th>11/04/2020</th>\n",
       "      <td>-72.285714</td>\n",
       "      <td>33.714286</td>\n",
       "    </tr>\n",
       "    <tr>\n",
       "      <th>18/04/2020</th>\n",
       "      <td>-66.857143</td>\n",
       "      <td>32.000000</td>\n",
       "    </tr>\n",
       "    <tr>\n",
       "      <th>25/04/2020</th>\n",
       "      <td>-63.285714</td>\n",
       "      <td>31.000000</td>\n",
       "    </tr>\n",
       "  </tbody>\n",
       "</table>\n",
       "</div>"
      ],
      "text/plain": [
       "            Cambio Porcentual Asistencia Trabajo  \\\n",
       "Fecha                                              \n",
       "15/02/2020                              7.000000   \n",
       "22/02/2020                             10.428571   \n",
       "29/02/2020                             10.285714   \n",
       "07/03/2020                             14.142857   \n",
       "14/03/2020                             13.285714   \n",
       "21/03/2020                            -13.714286   \n",
       "28/03/2020                            -69.571429   \n",
       "04/04/2020                            -69.714286   \n",
       "11/04/2020                            -72.285714   \n",
       "18/04/2020                            -66.857143   \n",
       "25/04/2020                            -63.285714   \n",
       "\n",
       "            Cambio Porcentual Permanencia en Casa  \n",
       "Fecha                                              \n",
       "15/02/2020                               1.000000  \n",
       "22/02/2020                              -0.428571  \n",
       "29/02/2020                              -0.714286  \n",
       "07/03/2020                              -1.571429  \n",
       "14/03/2020                              -0.714286  \n",
       "21/03/2020                               9.428571  \n",
       "28/03/2020                              32.571429  \n",
       "04/04/2020                              32.571429  \n",
       "11/04/2020                              33.714286  \n",
       "18/04/2020                              32.000000  \n",
       "25/04/2020                              31.000000  "
      ]
     },
     "execution_count": 390,
     "metadata": {},
     "output_type": "execute_result"
    }
   ],
   "source": [
    "Movility_Colombia_Prom"
   ]
  },
  {
   "cell_type": "code",
   "execution_count": 388,
   "metadata": {},
   "outputs": [],
   "source": [
    "Primer_3=list([google_mobility_co['residential_percent_change_from_baseline'][i:i+7] for i in range (0,70,7)][0])[0]\n",
    "data_3=[[list([google_mobility_co['residential_percent_change_from_baseline'][i:i+7].cumsum() for i in range (0,70,7)][i]) for i in range (10)][i][6]/7 for i in range (10)]\n",
    "data_3.insert(0,Primer_3)\n",
    "data_3\n",
    "Movility_Colombia_Prom.insert(1,'Cambio Porcentual Permanencia en Casa',data_3)"
   ]
  },
  {
   "cell_type": "code",
   "execution_count": 389,
   "metadata": {},
   "outputs": [
    {
     "data": {
      "image/png": "[encoded data removed]",
      "text/plain": [
       "<Figure size 432x288 with 1 Axes>"
      ]
     },
     "metadata": {
      "needs_background": "light"
     },
     "output_type": "display_data"
    }
   ],
   "source": [
    "fig, ax = plt.subplots()\n",
    "Movility_Colombia_Prom['Cambio Porcentual Permanencia en Casa'].plot(ax=ax, color='blue')\n",
    "fig.autofmt_xdate()\n",
    "plt.xlabel(\"Fecha\")\n",
    "plt.ylabel(\"Cambio Porcentual Permanencia en Casa\")\n",
    "plt.show()"
   ]
  },
  {
   "cell_type": "code",
   "execution_count": 409,
   "metadata": {},
   "outputs": [],
   "source": [
    "Movility_Colombia_Pr = pd.DataFrame(columns=['Fecha','Casos Semana'])\n",
    "Movility_Colombia_Pr['Fecha'] = [dti.strftime('%d/%m/%Y') for dti in pd.date_range(start='2020-02-15', end='2020-04-25', freq='7D')]"
   ]
  },
  {
   "cell_type": "code",
   "execution_count": 413,
   "metadata": {},
   "outputs": [],
   "source": [
    "Movility_Colombia_Pr['Casos Semana'][0:3]=0\n",
    "Movility_Colombia_Pr['Casos Semana'][3]=1\n",
    "Movility_Colombia_Pr['Casos Semana'][4]=37\n",
    "Movility_Colombia_Pr['Casos Semana'][5]=175\n",
    "Movility_Colombia_Pr['Casos Semana'][6]=396\n",
    "Movility_Colombia_Pr['Casos Semana'][7]=798\n",
    "Movility_Colombia_Pr['Casos Semana'][8]=1303\n",
    "Movility_Colombia_Pr['Casos Semana'][9]=910\n",
    "Movility_Colombia_Pr['Casos Semana'][10]=1521"
   ]
  },
  {
   "cell_type": "code",
   "execution_count": 414,
   "metadata": {},
   "outputs": [],
   "source": [
    "Movility_Colombia_Pr=Movility_Colombia_Pr.set_index('Fecha')"
   ]
  },
  {
   "cell_type": "code",
   "execution_count": 592,
   "metadata": {},
   "outputs": [
    {
     "data": {
      "image/png": "[encoded data removed]",
      "text/plain": [
       "<Figure size 360x504 with 2 Axes>"
      ]
     },
     "metadata": {
      "needs_background": "light"
     },
     "output_type": "display_data"
    }
   ],
   "source": [
    "fig, (ax1, ax2) = plt.subplots(2, 1, figsize=(5,7))\n",
    "Movility_Colombia_Prom.plot(ax=ax1) \n",
    "fig.autofmt_xdate()\n",
    "plt.xlabel(\"Fecha\")\n",
    "plt.ylabel(\"Cambio Porcentual\")\n",
    "\n",
    "\n",
    "Movility_Colombia_Pr.plot(ax=ax2) \n",
    "fig.autofmt_xdate()\n",
    "plt.xlabel(\"Fecha\")\n",
    "plt.ylabel(\"Casos Nuevos\")\n",
    "plt.show()"
   ]
  },
  {
   "cell_type": "markdown",
   "metadata": {},
   "source": [
    "#### Regionales"
   ]
  },
  {
   "cell_type": "markdown",
   "metadata": {},
   "source": [
    "Se realiza un analisis similar a las  principales ciudadesdel pais con mayor numero de infectados "
   ]
  },
  {
   "cell_type": "code",
   "execution_count": 472,
   "metadata": {},
   "outputs": [
    {
     "data": {
      "text/plain": [
       "array([nan, 'Amazonas Department', 'Antioquia', 'Arauca', 'Atlantico',\n",
       "       'Bogota', 'Bolivar', 'Boyaca', 'Caldas', 'Caquetá', 'Casanare',\n",
       "       'Cauca', 'Cesar', 'Choco', 'Cordoba', 'Cundinamarca', 'Guaviare',\n",
       "       'Huila', 'La Guajira', 'Magdalena', 'Meta', 'Narino',\n",
       "       'North Santander', 'Putumayo', 'Quindio', 'Risaralda',\n",
       "       'San Andrés and Providencia', 'Santander', 'Sucre', 'Tolima',\n",
       "       'Valle del Cauca', 'Vichada'], dtype=object)"
      ]
     },
     "execution_count": 472,
     "metadata": {},
     "output_type": "execute_result"
    }
   ],
   "source": [
    "google_mobility_co['sub_region_1'].unique()"
   ]
  },
  {
   "cell_type": "code",
   "execution_count": 455,
   "metadata": {},
   "outputs": [],
   "source": [
    "# Time line cases reported [date, cases, accum_cases]\n",
    "covid19co_time_regional = pd.DataFrame(columns=['fecha'])\n",
    "covid19co_time_regional['fecha'] = [dti.strftime('%d/%m/%Y') for dti in pd.date_range(start='2020-03-06', end=datetime.date.today().isoformat(), freq='D')]"
   ]
  },
  {
   "cell_type": "code",
   "execution_count": 456,
   "metadata": {},
   "outputs": [],
   "source": [
    "# Total Cases Reported By Date\n",
    "def get_total_cases_by_date(dfreport,departamento):\n",
    "    total_cases_by_date = {}\n",
    "    # Group by 'FECHA REPORTE WEB'\n",
    "    group_by_date = dfreport[dfreport['DEPARTAMENTO O DISTRITO ']==departamento].groupby(['FECHA REPORTE WEB'], sort=False)\n",
    "    # For each date\n",
    "    for date_report in group_by_date.groups.keys():\n",
    "        total_cases_by_date[date_report] = group_by_date.get_group(date_report)['ID DE CASO'].count()\n",
    "    # Return\n",
    "    return total_cases_by_date\n"
   ]
  },
  {
   "cell_type": "code",
   "execution_count": 457,
   "metadata": {},
   "outputs": [],
   "source": [
    "Departamentos=['Bogotá D.C.', 'Valle Del Cauca', 'Antioquia','Meta']\n",
    "for dep in Departamentos:\n",
    "    total_cases_by_date = get_total_cases_by_date(covid19co, dep)      \n",
    "    covid19co_time_regional.insert(1,f'Casos_{dep}',covid19co_time_regional['fecha'].transform(lambda date: total_cases_by_date[date] if date in total_cases_by_date else 0))\n",
    "    covid19co_time_regional.insert(1,f'Acumulados_{dep}', covid19co_time_regional[f'Casos_{dep}'].cumsum())\n",
    "    "
   ]
  },
  {
   "cell_type": "code",
   "execution_count": 482,
   "metadata": {},
   "outputs": [],
   "source": [
    "covid19co_progreso_regional = pd.DataFrame(columns=['Fecha'])\n",
    "covid19co_progreso_regional['Fecha'] = [dti.strftime('%d/%m/%Y') for dti in pd.date_range(start='2020-03-6', end=datetime.date.today().isoformat(), freq='7D')]"
   ]
  },
  {
   "cell_type": "code",
   "execution_count": 483,
   "metadata": {},
   "outputs": [],
   "source": [
    "for dep in Departamentos:\n",
    "    covid19co_progreso_regional.insert(1,f'Acumulados_{dep}',covid19co_progreso['Fecha'].transform(lambda date : list(covid19co_time_regional[f'Acumulados_{dep}'][covid19co_time_regional.index[covid19co_time_regional['fecha']==date]])[0]))\n",
    "    Primer=covid19co_progreso_regional[f'Acumulados_{dep}'][0]\n",
    "    data=[covid19co_progreso_regional[f'Acumulados_{dep}'][i]-covid19co_progreso_regional[f'Acumulados_{dep}'][i-1] for i in range (1,len(covid19co_progreso_regional[f'Acumulados_{dep}']))]\n",
    "    data.insert(0,Primer)\n",
    "    covid19co_progreso_regional.insert(1,f'Nuevos Semana {dep}',data)"
   ]
  },
  {
   "cell_type": "code",
   "execution_count": 484,
   "metadata": {},
   "outputs": [
    {
     "data": {
      "text/html": [
       "<div>\n",
       "<style scoped>\n",
       "    .dataframe tbody tr th:only-of-type {\n",
       "        vertical-align: middle;\n",
       "    }\n",
       "\n",
       "    .dataframe tbody tr th {\n",
       "        vertical-align: top;\n",
       "    }\n",
       "\n",
       "    .dataframe thead th {\n",
       "        text-align: right;\n",
       "    }\n",
       "</style>\n",
       "<table border=\"1\" class=\"dataframe\">\n",
       "  <thead>\n",
       "    <tr style=\"text-align: right;\">\n",
       "      <th></th>\n",
       "      <th>Fecha</th>\n",
       "      <th>Nuevos Semana Meta</th>\n",
       "      <th>Acumulados_Meta</th>\n",
       "      <th>Nuevos Semana Antioquia</th>\n",
       "      <th>Acumulados_Antioquia</th>\n",
       "      <th>Nuevos Semana Valle Del Cauca</th>\n",
       "      <th>Acumulados_Valle Del Cauca</th>\n",
       "      <th>Nuevos Semana Bogotá D.C.</th>\n",
       "      <th>Acumulados_Bogotá D.C.</th>\n",
       "    </tr>\n",
       "  </thead>\n",
       "  <tbody>\n",
       "    <tr>\n",
       "      <th>0</th>\n",
       "      <td>06/03/2020</td>\n",
       "      <td>0</td>\n",
       "      <td>0</td>\n",
       "      <td>0</td>\n",
       "      <td>0</td>\n",
       "      <td>0</td>\n",
       "      <td>0</td>\n",
       "      <td>1</td>\n",
       "      <td>1</td>\n",
       "    </tr>\n",
       "    <tr>\n",
       "      <th>1</th>\n",
       "      <td>13/03/2020</td>\n",
       "      <td>1</td>\n",
       "      <td>1</td>\n",
       "      <td>4</td>\n",
       "      <td>4</td>\n",
       "      <td>3</td>\n",
       "      <td>3</td>\n",
       "      <td>5</td>\n",
       "      <td>6</td>\n",
       "    </tr>\n",
       "    <tr>\n",
       "      <th>2</th>\n",
       "      <td>20/03/2020</td>\n",
       "      <td>0</td>\n",
       "      <td>1</td>\n",
       "      <td>18</td>\n",
       "      <td>22</td>\n",
       "      <td>12</td>\n",
       "      <td>15</td>\n",
       "      <td>73</td>\n",
       "      <td>79</td>\n",
       "    </tr>\n",
       "    <tr>\n",
       "      <th>3</th>\n",
       "      <td>27/03/2020</td>\n",
       "      <td>7</td>\n",
       "      <td>8</td>\n",
       "      <td>38</td>\n",
       "      <td>60</td>\n",
       "      <td>59</td>\n",
       "      <td>74</td>\n",
       "      <td>138</td>\n",
       "      <td>217</td>\n",
       "    </tr>\n",
       "    <tr>\n",
       "      <th>4</th>\n",
       "      <td>03/04/2020</td>\n",
       "      <td>5</td>\n",
       "      <td>13</td>\n",
       "      <td>85</td>\n",
       "      <td>145</td>\n",
       "      <td>92</td>\n",
       "      <td>166</td>\n",
       "      <td>359</td>\n",
       "      <td>576</td>\n",
       "    </tr>\n",
       "    <tr>\n",
       "      <th>5</th>\n",
       "      <td>10/04/2020</td>\n",
       "      <td>4</td>\n",
       "      <td>17</td>\n",
       "      <td>101</td>\n",
       "      <td>246</td>\n",
       "      <td>248</td>\n",
       "      <td>414</td>\n",
       "      <td>525</td>\n",
       "      <td>1101</td>\n",
       "    </tr>\n",
       "    <tr>\n",
       "      <th>6</th>\n",
       "      <td>17/04/2020</td>\n",
       "      <td>29</td>\n",
       "      <td>46</td>\n",
       "      <td>79</td>\n",
       "      <td>325</td>\n",
       "      <td>172</td>\n",
       "      <td>586</td>\n",
       "      <td>273</td>\n",
       "      <td>1374</td>\n",
       "    </tr>\n",
       "    <tr>\n",
       "      <th>7</th>\n",
       "      <td>24/04/2020</td>\n",
       "      <td>116</td>\n",
       "      <td>162</td>\n",
       "      <td>122</td>\n",
       "      <td>447</td>\n",
       "      <td>189</td>\n",
       "      <td>775</td>\n",
       "      <td>677</td>\n",
       "      <td>2051</td>\n",
       "    </tr>\n",
       "    <tr>\n",
       "      <th>8</th>\n",
       "      <td>01/05/2020</td>\n",
       "      <td>313</td>\n",
       "      <td>475</td>\n",
       "      <td>28</td>\n",
       "      <td>475</td>\n",
       "      <td>205</td>\n",
       "      <td>980</td>\n",
       "      <td>722</td>\n",
       "      <td>2773</td>\n",
       "    </tr>\n",
       "  </tbody>\n",
       "</table>\n",
       "</div>"
      ],
      "text/plain": [
       "        Fecha  Nuevos Semana Meta  Acumulados_Meta  Nuevos Semana Antioquia  \\\n",
       "0  06/03/2020                   0                0                        0   \n",
       "1  13/03/2020                   1                1                        4   \n",
       "2  20/03/2020                   0                1                       18   \n",
       "3  27/03/2020                   7                8                       38   \n",
       "4  03/04/2020                   5               13                       85   \n",
       "5  10/04/2020                   4               17                      101   \n",
       "6  17/04/2020                  29               46                       79   \n",
       "7  24/04/2020                 116              162                      122   \n",
       "8  01/05/2020                 313              475                       28   \n",
       "\n",
       "   Acumulados_Antioquia  Nuevos Semana Valle Del Cauca  \\\n",
       "0                     0                              0   \n",
       "1                     4                              3   \n",
       "2                    22                             12   \n",
       "3                    60                             59   \n",
       "4                   145                             92   \n",
       "5                   246                            248   \n",
       "6                   325                            172   \n",
       "7                   447                            189   \n",
       "8                   475                            205   \n",
       "\n",
       "   Acumulados_Valle Del Cauca  Nuevos Semana Bogotá D.C.  \\\n",
       "0                           0                          1   \n",
       "1                           3                          5   \n",
       "2                          15                         73   \n",
       "3                          74                        138   \n",
       "4                         166                        359   \n",
       "5                         414                        525   \n",
       "6                         586                        273   \n",
       "7                         775                        677   \n",
       "8                         980                        722   \n",
       "\n",
       "   Acumulados_Bogotá D.C.  \n",
       "0                       1  \n",
       "1                       6  \n",
       "2                      79  \n",
       "3                     217  \n",
       "4                     576  \n",
       "5                    1101  \n",
       "6                    1374  \n",
       "7                    2051  \n",
       "8                    2773  "
      ]
     },
     "execution_count": 484,
     "metadata": {},
     "output_type": "execute_result"
    }
   ],
   "source": [
    "covid19co_progreso_regional"
   ]
  },
  {
   "cell_type": "code",
   "execution_count": 593,
   "metadata": {},
   "outputs": [
    {
     "data": {
      "image/png": "[encoded data removed]",
      "text/plain": [
       "<Figure size 432x288 with 1 Axes>"
      ]
     },
     "metadata": {
      "needs_background": "light"
     },
     "output_type": "display_data"
    }
   ],
   "source": [
    "# plot\n",
    "\n",
    "x1=list(covid19co_progreso_regional['Acumulados_Bogotá D.C.'])\n",
    "y1=list(covid19co_progreso_regional['Nuevos Semana Bogotá D.C.'])\n",
    "\n",
    "x2=list(covid19co_progreso_regional['Acumulados_Antioquia'])\n",
    "y2=list(covid19co_progreso_regional['Nuevos Semana Antioquia'])\n",
    "\n",
    "x3=list(covid19co_progreso_regional['Acumulados_Valle Del Cauca'])\n",
    "y3=list(covid19co_progreso_regional['Nuevos Semana Valle Del Cauca'])\n",
    "\n",
    "x4=list(covid19co_progreso_regional['Acumulados_Meta'])\n",
    "y4=list(covid19co_progreso_regional['Nuevos Semana Meta'])\n",
    "\n",
    "plt.loglog(x1, y1)\n",
    "plt.plot(x1,y1,'ro-',label='Bogotá D.C.')\n",
    "\n",
    "plt.loglog(x2, y2)\n",
    "plt.plot(x2,y2,'bo-',label='Antioquia')\n",
    "\n",
    "plt.loglog(x3, y3)\n",
    "plt.plot(x3,y3,'go-',label='Valle Del Cauca')\n",
    "\n",
    "plt.loglog(x4, y4)\n",
    "plt.plot(x4,y4,'co-', label='Meta')\n",
    "\n",
    "plt.grid(True, which=\"both\", ls=\"-\")\n",
    "\n",
    "plt.legend(loc='upper left', bbox_to_anchor=(1,1), ncol=1)\n",
    "# Custom  axis\n",
    "plt.xlabel(\"Casos Acumulados\")\n",
    "plt.ylabel(\"Nuevos Casos Semanales\")\n",
    "plt.title('Trayectoria de Casos Reportados')\n",
    "\n",
    "plt.show()"
   ]
  },
  {
   "cell_type": "code",
   "execution_count": 471,
   "metadata": {},
   "outputs": [],
   "source": [
    "# Time line cases reported [date, cases, accum_cases]\n",
    "Movility_Colombia_Prom_Bog = pd.DataFrame(columns=['Fecha'])\n",
    "Movility_Colombia_Prom_Bog['Fecha'] = [dti.strftime('%d/%m/%Y') for dti in pd.date_range(start='2020-02-15', end='2020-04-25', freq='7D')]"
   ]
  },
  {
   "cell_type": "code",
   "execution_count": 475,
   "metadata": {},
   "outputs": [],
   "source": [
    "google_mobility_bog=google_mobility_co[google_mobility_co['sub_region_1']=='Bogota']"
   ]
  },
  {
   "cell_type": "code",
   "execution_count": 476,
   "metadata": {},
   "outputs": [],
   "source": [
    "# Time line cases reported [date, cases, accum_cases]\n",
    "Movility_Bog_Prom = pd.DataFrame(columns=['Fecha'])\n",
    "Movility_Bog_Prom['Fecha'] = [dti.strftime('%d/%m/%Y') for dti in pd.date_range(start='2020-02-15', end='2020-04-25', freq='7D')]"
   ]
  },
  {
   "cell_type": "code",
   "execution_count": 477,
   "metadata": {},
   "outputs": [],
   "source": [
    "Primer_2=list([google_mobility_bog['workplaces_percent_change_from_baseline'][i:i+7] for i in range (0,70,7)][0])[0]\n",
    "data_2=[[list([google_mobility_bog['workplaces_percent_change_from_baseline'][i:i+7].cumsum() for i in range (0,70,7)][i]) for i in range (10)][i][6]/7 for i in range (10)]\n",
    "data_2.insert(0,Primer_2)\n",
    "data_2\n",
    "Movility_Bog_Prom.insert(1,'Cambio Porcentual Asistencia Trabajo',data_2)\n",
    "\n",
    "Primer_3=list([google_mobility_bog['residential_percent_change_from_baseline'][i:i+7] for i in range (0,70,7)][0])[0]\n",
    "data_3=[[list([google_mobility_bog['residential_percent_change_from_baseline'][i:i+7].cumsum() for i in range (0,70,7)][i]) for i in range (10)][i][6]/7 for i in range (10)]\n",
    "data_3.insert(0,Primer_3)\n",
    "data_3\n",
    "Movility_Bog_Prom.insert(1,'Cambio Porcentual Permanencia en Casa',data_3)"
   ]
  },
  {
   "cell_type": "code",
   "execution_count": 478,
   "metadata": {},
   "outputs": [],
   "source": [
    "Movility_Bog_Pr = pd.DataFrame(columns=['Fecha','Casos Semana'])\n",
    "Movility_Bog_Pr['Fecha'] = [dti.strftime('%d/%m/%Y') for dti in pd.date_range(start='2020-02-15', end='2020-04-25', freq='7D')]"
   ]
  },
  {
   "cell_type": "code",
   "execution_count": 486,
   "metadata": {},
   "outputs": [],
   "source": [
    "Movility_Bog_Pr['Casos Semana'][0:3]=0\n",
    "Movility_Bog_Pr['Casos Semana'][3]=1\n",
    "Movility_Bog_Pr['Casos Semana'][4]=5\n",
    "Movility_Bog_Pr['Casos Semana'][5]=73\n",
    "Movility_Bog_Pr['Casos Semana'][6]=138\n",
    "Movility_Bog_Pr['Casos Semana'][7]=359\n",
    "Movility_Bog_Pr['Casos Semana'][8]=525\n",
    "Movility_Bog_Pr['Casos Semana'][9]=273\n",
    "Movility_Bog_Pr['Casos Semana'][10]=677"
   ]
  },
  {
   "cell_type": "code",
   "execution_count": 487,
   "metadata": {},
   "outputs": [],
   "source": [
    "Movility_Bog_Prom=Movility_Bog_Prom.set_index('Fecha')\n",
    "Movility_Bog_Pr=Movility_Bog_Pr.set_index('Fecha')"
   ]
  },
  {
   "cell_type": "code",
   "execution_count": 595,
   "metadata": {},
   "outputs": [
    {
     "data": {
      "image/png": "[encoded data removed]",
      "text/plain": [
       "<Figure size 360x504 with 2 Axes>"
      ]
     },
     "metadata": {
      "needs_background": "light"
     },
     "output_type": "display_data"
    }
   ],
   "source": [
    "fig, (ax1, ax2) = plt.subplots(2, 1, figsize=(5,7))\n",
    "plt.title('Bogotá D.C.')\n",
    "Movility_Bog_Prom.plot(ax=ax1) \n",
    "fig.autofmt_xdate()\n",
    "\n",
    "plt.xlabel(\"Fecha\")\n",
    "plt.ylabel(\"Cambio Porcentual\")\n",
    "\n",
    "\n",
    "Movility_Bog_Pr.plot(ax=ax2) \n",
    "fig.autofmt_xdate()\n",
    "plt.xlabel(\"Fecha\")\n",
    "plt.ylabel(\"Casos Nuevos\")\n",
    "plt.show()"
   ]
  },
  {
   "cell_type": "code",
   "execution_count": 490,
   "metadata": {},
   "outputs": [
    {
     "data": {
      "text/html": [
       "<div>\n",
       "<style scoped>\n",
       "    .dataframe tbody tr th:only-of-type {\n",
       "        vertical-align: middle;\n",
       "    }\n",
       "\n",
       "    .dataframe tbody tr th {\n",
       "        vertical-align: top;\n",
       "    }\n",
       "\n",
       "    .dataframe thead th {\n",
       "        text-align: right;\n",
       "    }\n",
       "</style>\n",
       "<table border=\"1\" class=\"dataframe\">\n",
       "  <thead>\n",
       "    <tr style=\"text-align: right;\">\n",
       "      <th></th>\n",
       "      <th>Cambio Porcentual Permanencia en Casa</th>\n",
       "      <th>Cambio Porcentual Asistencia Trabajo</th>\n",
       "    </tr>\n",
       "    <tr>\n",
       "      <th>Fecha</th>\n",
       "      <th></th>\n",
       "      <th></th>\n",
       "    </tr>\n",
       "  </thead>\n",
       "  <tbody>\n",
       "    <tr>\n",
       "      <th>15/02/2020</th>\n",
       "      <td>-1.000000</td>\n",
       "      <td>9.000000</td>\n",
       "    </tr>\n",
       "    <tr>\n",
       "      <th>22/02/2020</th>\n",
       "      <td>-1.142857</td>\n",
       "      <td>12.000000</td>\n",
       "    </tr>\n",
       "    <tr>\n",
       "      <th>29/02/2020</th>\n",
       "      <td>-1.000000</td>\n",
       "      <td>12.428571</td>\n",
       "    </tr>\n",
       "    <tr>\n",
       "      <th>07/03/2020</th>\n",
       "      <td>-2.571429</td>\n",
       "      <td>14.714286</td>\n",
       "    </tr>\n",
       "    <tr>\n",
       "      <th>14/03/2020</th>\n",
       "      <td>-1.000000</td>\n",
       "      <td>13.000000</td>\n",
       "    </tr>\n",
       "    <tr>\n",
       "      <th>21/03/2020</th>\n",
       "      <td>13.571429</td>\n",
       "      <td>-19.142857</td>\n",
       "    </tr>\n",
       "    <tr>\n",
       "      <th>28/03/2020</th>\n",
       "      <td>39.142857</td>\n",
       "      <td>-75.000000</td>\n",
       "    </tr>\n",
       "    <tr>\n",
       "      <th>04/04/2020</th>\n",
       "      <td>38.714286</td>\n",
       "      <td>-74.142857</td>\n",
       "    </tr>\n",
       "    <tr>\n",
       "      <th>11/04/2020</th>\n",
       "      <td>39.714286</td>\n",
       "      <td>-76.428571</td>\n",
       "    </tr>\n",
       "    <tr>\n",
       "      <th>18/04/2020</th>\n",
       "      <td>38.142857</td>\n",
       "      <td>-72.000000</td>\n",
       "    </tr>\n",
       "    <tr>\n",
       "      <th>25/04/2020</th>\n",
       "      <td>36.857143</td>\n",
       "      <td>-68.714286</td>\n",
       "    </tr>\n",
       "  </tbody>\n",
       "</table>\n",
       "</div>"
      ],
      "text/plain": [
       "            Cambio Porcentual Permanencia en Casa  \\\n",
       "Fecha                                               \n",
       "15/02/2020                              -1.000000   \n",
       "22/02/2020                              -1.142857   \n",
       "29/02/2020                              -1.000000   \n",
       "07/03/2020                              -2.571429   \n",
       "14/03/2020                              -1.000000   \n",
       "21/03/2020                              13.571429   \n",
       "28/03/2020                              39.142857   \n",
       "04/04/2020                              38.714286   \n",
       "11/04/2020                              39.714286   \n",
       "18/04/2020                              38.142857   \n",
       "25/04/2020                              36.857143   \n",
       "\n",
       "            Cambio Porcentual Asistencia Trabajo  \n",
       "Fecha                                             \n",
       "15/02/2020                              9.000000  \n",
       "22/02/2020                             12.000000  \n",
       "29/02/2020                             12.428571  \n",
       "07/03/2020                             14.714286  \n",
       "14/03/2020                             13.000000  \n",
       "21/03/2020                            -19.142857  \n",
       "28/03/2020                            -75.000000  \n",
       "04/04/2020                            -74.142857  \n",
       "11/04/2020                            -76.428571  \n",
       "18/04/2020                            -72.000000  \n",
       "25/04/2020                            -68.714286  "
      ]
     },
     "execution_count": 490,
     "metadata": {},
     "output_type": "execute_result"
    }
   ],
   "source": [
    "Movility_Bog_Prom"
   ]
  },
  {
   "cell_type": "code",
   "execution_count": 497,
   "metadata": {},
   "outputs": [],
   "source": [
    "# Time line cases reported [date, cases, accum_cases]\n",
    "Movility_Colombia_Prom_Ant = pd.DataFrame(columns=['Fecha'])\n",
    "Movility_Colombia_Prom_Ant['Fecha'] = [dti.strftime('%d/%m/%Y') for dti in pd.date_range(start='2020-02-15', end='2020-04-25', freq='7D')]"
   ]
  },
  {
   "cell_type": "code",
   "execution_count": 498,
   "metadata": {},
   "outputs": [],
   "source": [
    "google_mobility_Ant=google_mobility_co[google_mobility_co['sub_region_1']=='Antioquia']"
   ]
  },
  {
   "cell_type": "code",
   "execution_count": 499,
   "metadata": {},
   "outputs": [],
   "source": [
    "# Time line cases reported [date, cases, accum_cases]\n",
    "Movility_Ant_Prom = pd.DataFrame(columns=['Fecha'])\n",
    "Movility_Ant_Prom['Fecha'] = [dti.strftime('%d/%m/%Y') for dti in pd.date_range(start='2020-02-15', end='2020-04-25', freq='7D')]"
   ]
  },
  {
   "cell_type": "code",
   "execution_count": 500,
   "metadata": {},
   "outputs": [],
   "source": [
    "Primer_2=list([google_mobility_Ant['workplaces_percent_change_from_baseline'][i:i+7] for i in range (0,70,7)][0])[0]\n",
    "data_2=[[list([google_mobility_Ant['workplaces_percent_change_from_baseline'][i:i+7].cumsum() for i in range (0,70,7)][i]) for i in range (10)][i][6]/7 for i in range (10)]\n",
    "data_2.insert(0,Primer_2)\n",
    "data_2\n",
    "Movility_Ant_Prom.insert(1,'Cambio Porcentual Asistencia Trabajo',data_2)\n",
    "\n",
    "Primer_3=list([google_mobility_Ant['residential_percent_change_from_baseline'][i:i+7] for i in range (0,70,7)][0])[0]\n",
    "data_3=[[list([google_mobility_Ant['residential_percent_change_from_baseline'][i:i+7].cumsum() for i in range (0,70,7)][i]) for i in range (10)][i][6]/7 for i in range (10)]\n",
    "data_3.insert(0,Primer_3)\n",
    "data_3\n",
    "Movility_Ant_Prom.insert(1,'Cambio Porcentual Permanencia en Casa',data_3)"
   ]
  },
  {
   "cell_type": "code",
   "execution_count": 501,
   "metadata": {},
   "outputs": [],
   "source": [
    "Movility_Ant_Pr = pd.DataFrame(columns=['Fecha','Casos Semana'])\n",
    "Movility_Ant_Pr['Fecha'] = [dti.strftime('%d/%m/%Y') for dti in pd.date_range(start='2020-02-15', end='2020-04-25', freq='7D')]"
   ]
  },
  {
   "cell_type": "code",
   "execution_count": 502,
   "metadata": {},
   "outputs": [],
   "source": [
    "Movility_Ant_Pr['Casos Semana'][0:3]=0\n",
    "Movility_Ant_Pr['Casos Semana'][3]=0\n",
    "Movility_Ant_Pr['Casos Semana'][4]=4\n",
    "Movility_Ant_Pr['Casos Semana'][5]=18\n",
    "Movility_Ant_Pr['Casos Semana'][6]=38\n",
    "Movility_Ant_Pr['Casos Semana'][7]=85\n",
    "Movility_Ant_Pr['Casos Semana'][8]=101\n",
    "Movility_Ant_Pr['Casos Semana'][9]=79\n",
    "Movility_Ant_Pr['Casos Semana'][10]=122"
   ]
  },
  {
   "cell_type": "code",
   "execution_count": 503,
   "metadata": {},
   "outputs": [],
   "source": [
    "Movility_Ant_Prom=Movility_Ant_Prom.set_index('Fecha')\n",
    "Movility_Ant_Pr=Movility_Ant_Pr.set_index('Fecha')"
   ]
  },
  {
   "cell_type": "code",
   "execution_count": 596,
   "metadata": {},
   "outputs": [
    {
     "data": {
      "image/png": "[encoded data removed]",
      "text/plain": [
       "<Figure size 360x504 with 2 Axes>"
      ]
     },
     "metadata": {
      "needs_background": "light"
     },
     "output_type": "display_data"
    }
   ],
   "source": [
    "fig, (ax1, ax2) = plt.subplots(2, 1, figsize=(5,7))\n",
    "Movility_Ant_Prom.plot(ax=ax1) \n",
    "fig.autofmt_xdate()\n",
    "plt.xlabel(\"Fecha\")\n",
    "plt.ylabel(\"Cambio Porcentual\")\n",
    "plt.title('Antioquia')\n",
    "\n",
    "Movility_Ant_Pr.plot(ax=ax2) \n",
    "fig.autofmt_xdate()\n",
    "plt.xlabel(\"Fecha\")\n",
    "plt.ylabel(\"Casos Nuevos\")\n",
    "plt.show()"
   ]
  },
  {
   "cell_type": "code",
   "execution_count": 506,
   "metadata": {},
   "outputs": [
    {
     "data": {
      "text/html": [
       "<div>\n",
       "<style scoped>\n",
       "    .dataframe tbody tr th:only-of-type {\n",
       "        vertical-align: middle;\n",
       "    }\n",
       "\n",
       "    .dataframe tbody tr th {\n",
       "        vertical-align: top;\n",
       "    }\n",
       "\n",
       "    .dataframe thead th {\n",
       "        text-align: right;\n",
       "    }\n",
       "</style>\n",
       "<table border=\"1\" class=\"dataframe\">\n",
       "  <thead>\n",
       "    <tr style=\"text-align: right;\">\n",
       "      <th></th>\n",
       "      <th>Cambio Porcentual Permanencia en Casa</th>\n",
       "      <th>Cambio Porcentual Asistencia Trabajo</th>\n",
       "    </tr>\n",
       "    <tr>\n",
       "      <th>Fecha</th>\n",
       "      <th></th>\n",
       "      <th></th>\n",
       "    </tr>\n",
       "  </thead>\n",
       "  <tbody>\n",
       "    <tr>\n",
       "      <th>15/02/2020</th>\n",
       "      <td>0.000000</td>\n",
       "      <td>7.000000</td>\n",
       "    </tr>\n",
       "    <tr>\n",
       "      <th>22/02/2020</th>\n",
       "      <td>-0.571429</td>\n",
       "      <td>8.000000</td>\n",
       "    </tr>\n",
       "    <tr>\n",
       "      <th>29/02/2020</th>\n",
       "      <td>-0.857143</td>\n",
       "      <td>9.571429</td>\n",
       "    </tr>\n",
       "    <tr>\n",
       "      <th>07/03/2020</th>\n",
       "      <td>-0.857143</td>\n",
       "      <td>10.857143</td>\n",
       "    </tr>\n",
       "    <tr>\n",
       "      <th>14/03/2020</th>\n",
       "      <td>0.285714</td>\n",
       "      <td>9.857143</td>\n",
       "    </tr>\n",
       "    <tr>\n",
       "      <th>21/03/2020</th>\n",
       "      <td>8.571429</td>\n",
       "      <td>-13.857143</td>\n",
       "    </tr>\n",
       "    <tr>\n",
       "      <th>28/03/2020</th>\n",
       "      <td>33.142857</td>\n",
       "      <td>-73.428571</td>\n",
       "    </tr>\n",
       "    <tr>\n",
       "      <th>04/04/2020</th>\n",
       "      <td>32.857143</td>\n",
       "      <td>-72.571429</td>\n",
       "    </tr>\n",
       "    <tr>\n",
       "      <th>11/04/2020</th>\n",
       "      <td>33.714286</td>\n",
       "      <td>-74.571429</td>\n",
       "    </tr>\n",
       "    <tr>\n",
       "      <th>18/04/2020</th>\n",
       "      <td>32.000000</td>\n",
       "      <td>-68.571429</td>\n",
       "    </tr>\n",
       "    <tr>\n",
       "      <th>25/04/2020</th>\n",
       "      <td>30.571429</td>\n",
       "      <td>-64.714286</td>\n",
       "    </tr>\n",
       "  </tbody>\n",
       "</table>\n",
       "</div>"
      ],
      "text/plain": [
       "            Cambio Porcentual Permanencia en Casa  \\\n",
       "Fecha                                               \n",
       "15/02/2020                               0.000000   \n",
       "22/02/2020                              -0.571429   \n",
       "29/02/2020                              -0.857143   \n",
       "07/03/2020                              -0.857143   \n",
       "14/03/2020                               0.285714   \n",
       "21/03/2020                               8.571429   \n",
       "28/03/2020                              33.142857   \n",
       "04/04/2020                              32.857143   \n",
       "11/04/2020                              33.714286   \n",
       "18/04/2020                              32.000000   \n",
       "25/04/2020                              30.571429   \n",
       "\n",
       "            Cambio Porcentual Asistencia Trabajo  \n",
       "Fecha                                             \n",
       "15/02/2020                              7.000000  \n",
       "22/02/2020                              8.000000  \n",
       "29/02/2020                              9.571429  \n",
       "07/03/2020                             10.857143  \n",
       "14/03/2020                              9.857143  \n",
       "21/03/2020                            -13.857143  \n",
       "28/03/2020                            -73.428571  \n",
       "04/04/2020                            -72.571429  \n",
       "11/04/2020                            -74.571429  \n",
       "18/04/2020                            -68.571429  \n",
       "25/04/2020                            -64.714286  "
      ]
     },
     "execution_count": 506,
     "metadata": {},
     "output_type": "execute_result"
    }
   ],
   "source": [
    "Movility_Ant_Prom"
   ]
  },
  {
   "cell_type": "code",
   "execution_count": 507,
   "metadata": {},
   "outputs": [],
   "source": [
    "# Time line cases reported [date, cases, accum_cases]\n",
    "Movility_Colombia_Prom_VCauc = pd.DataFrame(columns=['Fecha'])\n",
    "Movility_Colombia_Prom_VCauc['Fecha'] = [dti.strftime('%d/%m/%Y') for dti in pd.date_range(start='2020-02-15', end='2020-04-25', freq='7D')]"
   ]
  },
  {
   "cell_type": "code",
   "execution_count": 508,
   "metadata": {},
   "outputs": [],
   "source": [
    "google_mobility_VCauc=google_mobility_co[google_mobility_co['sub_region_1']=='Valle del Cauca']"
   ]
  },
  {
   "cell_type": "code",
   "execution_count": 509,
   "metadata": {},
   "outputs": [],
   "source": [
    "# Time line cases reported [date, cases, accum_cases]\n",
    "Movility_VCauc_Prom = pd.DataFrame(columns=['Fecha'])\n",
    "Movility_VCauc_Prom['Fecha'] = [dti.strftime('%d/%m/%Y') for dti in pd.date_range(start='2020-02-15', end='2020-04-25', freq='7D')]"
   ]
  },
  {
   "cell_type": "code",
   "execution_count": 510,
   "metadata": {},
   "outputs": [],
   "source": [
    "Primer_2=list([google_mobility_VCauc['workplaces_percent_change_from_baseline'][i:i+7] for i in range (0,70,7)][0])[0]\n",
    "data_2=[[list([google_mobility_VCauc['workplaces_percent_change_from_baseline'][i:i+7].cumsum() for i in range (0,70,7)][i]) for i in range (10)][i][6]/7 for i in range (10)]\n",
    "data_2.insert(0,Primer_2)\n",
    "data_2\n",
    "Movility_VCauc_Prom.insert(1,'Cambio Porcentual Asistencia Trabajo',data_2)\n",
    "\n",
    "Primer_3=list([google_mobility_VCauc['residential_percent_change_from_baseline'][i:i+7] for i in range (0,70,7)][0])[0]\n",
    "data_3=[[list([google_mobility_VCauc['residential_percent_change_from_baseline'][i:i+7].cumsum() for i in range (0,70,7)][i]) for i in range (10)][i][6]/7 for i in range (10)]\n",
    "data_3.insert(0,Primer_3)\n",
    "data_3\n",
    "Movility_VCauc_Prom.insert(1,'Cambio Porcentual Permanencia en Casa',data_3)"
   ]
  },
  {
   "cell_type": "code",
   "execution_count": 513,
   "metadata": {},
   "outputs": [],
   "source": [
    "Movility_VCauc_Pr = pd.DataFrame(columns=['Fecha','Casos Semana'])\n",
    "Movility_VCauc_Pr['Fecha'] = [dti.strftime('%d/%m/%Y') for dti in pd.date_range(start='2020-02-15', end='2020-04-25', freq='7D')]"
   ]
  },
  {
   "cell_type": "code",
   "execution_count": 514,
   "metadata": {},
   "outputs": [],
   "source": [
    "Movility_VCauc_Pr['Casos Semana'][0:3]=0\n",
    "Movility_VCauc_Pr['Casos Semana'][3]=0\n",
    "Movility_VCauc_Pr['Casos Semana'][4]=3\n",
    "Movility_VCauc_Pr['Casos Semana'][5]=12\n",
    "Movility_VCauc_Pr['Casos Semana'][6]=59\n",
    "Movility_VCauc_Pr['Casos Semana'][7]=92\n",
    "Movility_VCauc_Pr['Casos Semana'][8]=248\n",
    "Movility_VCauc_Pr['Casos Semana'][9]=172\n",
    "Movility_VCauc_Pr['Casos Semana'][10]=189"
   ]
  },
  {
   "cell_type": "code",
   "execution_count": 517,
   "metadata": {},
   "outputs": [],
   "source": [
    "Movility_VCauc_Prom=Movility_VCauc_Prom.set_index('Fecha')\n",
    "Movility_VCauc_Pr=Movility_VCauc_Pr.set_index('Fecha')"
   ]
  },
  {
   "cell_type": "code",
   "execution_count": 597,
   "metadata": {},
   "outputs": [
    {
     "data": {
      "image/png": "[encoded data removed]",
      "text/plain": [
       "<Figure size 360x504 with 2 Axes>"
      ]
     },
     "metadata": {
      "needs_background": "light"
     },
     "output_type": "display_data"
    }
   ],
   "source": [
    "fig, (ax1, ax2) = plt.subplots(2, 1, figsize=(5,7))\n",
    "Movility_VCauc_Prom.plot(ax=ax1) \n",
    "fig.autofmt_xdate()\n",
    "plt.xlabel(\"Fecha\")\n",
    "plt.ylabel(\"Cambio Porcentual\")\n",
    "\n",
    "plt.title('Valle del Cauca')\n",
    "\n",
    "Movility_VCauc_Pr.plot(ax=ax2) \n",
    "fig.autofmt_xdate()\n",
    "plt.xlabel(\"Fecha\")\n",
    "plt.ylabel(\"Casos Nuevos\")\n",
    "plt.show()"
   ]
  },
  {
   "cell_type": "code",
   "execution_count": 520,
   "metadata": {},
   "outputs": [
    {
     "data": {
      "text/html": [
       "<div>\n",
       "<style scoped>\n",
       "    .dataframe tbody tr th:only-of-type {\n",
       "        vertical-align: middle;\n",
       "    }\n",
       "\n",
       "    .dataframe tbody tr th {\n",
       "        vertical-align: top;\n",
       "    }\n",
       "\n",
       "    .dataframe thead th {\n",
       "        text-align: right;\n",
       "    }\n",
       "</style>\n",
       "<table border=\"1\" class=\"dataframe\">\n",
       "  <thead>\n",
       "    <tr style=\"text-align: right;\">\n",
       "      <th></th>\n",
       "      <th>Cambio Porcentual Permanencia en Casa</th>\n",
       "      <th>Cambio Porcentual Asistencia Trabajo</th>\n",
       "    </tr>\n",
       "    <tr>\n",
       "      <th>Fecha</th>\n",
       "      <th></th>\n",
       "      <th></th>\n",
       "    </tr>\n",
       "  </thead>\n",
       "  <tbody>\n",
       "    <tr>\n",
       "      <th>15/02/2020</th>\n",
       "      <td>1.000000</td>\n",
       "      <td>6.000000</td>\n",
       "    </tr>\n",
       "    <tr>\n",
       "      <th>22/02/2020</th>\n",
       "      <td>-0.571429</td>\n",
       "      <td>9.571429</td>\n",
       "    </tr>\n",
       "    <tr>\n",
       "      <th>29/02/2020</th>\n",
       "      <td>-0.571429</td>\n",
       "      <td>10.714286</td>\n",
       "    </tr>\n",
       "    <tr>\n",
       "      <th>07/03/2020</th>\n",
       "      <td>-1.571429</td>\n",
       "      <td>13.000000</td>\n",
       "    </tr>\n",
       "    <tr>\n",
       "      <th>14/03/2020</th>\n",
       "      <td>-0.714286</td>\n",
       "      <td>12.000000</td>\n",
       "    </tr>\n",
       "    <tr>\n",
       "      <th>21/03/2020</th>\n",
       "      <td>6.714286</td>\n",
       "      <td>-8.714286</td>\n",
       "    </tr>\n",
       "    <tr>\n",
       "      <th>28/03/2020</th>\n",
       "      <td>30.571429</td>\n",
       "      <td>-69.571429</td>\n",
       "    </tr>\n",
       "    <tr>\n",
       "      <th>04/04/2020</th>\n",
       "      <td>29.857143</td>\n",
       "      <td>-67.571429</td>\n",
       "    </tr>\n",
       "    <tr>\n",
       "      <th>11/04/2020</th>\n",
       "      <td>31.000000</td>\n",
       "      <td>-70.571429</td>\n",
       "    </tr>\n",
       "    <tr>\n",
       "      <th>18/04/2020</th>\n",
       "      <td>29.142857</td>\n",
       "      <td>-64.142857</td>\n",
       "    </tr>\n",
       "    <tr>\n",
       "      <th>25/04/2020</th>\n",
       "      <td>28.571429</td>\n",
       "      <td>-61.571429</td>\n",
       "    </tr>\n",
       "  </tbody>\n",
       "</table>\n",
       "</div>"
      ],
      "text/plain": [
       "            Cambio Porcentual Permanencia en Casa  \\\n",
       "Fecha                                               \n",
       "15/02/2020                               1.000000   \n",
       "22/02/2020                              -0.571429   \n",
       "29/02/2020                              -0.571429   \n",
       "07/03/2020                              -1.571429   \n",
       "14/03/2020                              -0.714286   \n",
       "21/03/2020                               6.714286   \n",
       "28/03/2020                              30.571429   \n",
       "04/04/2020                              29.857143   \n",
       "11/04/2020                              31.000000   \n",
       "18/04/2020                              29.142857   \n",
       "25/04/2020                              28.571429   \n",
       "\n",
       "            Cambio Porcentual Asistencia Trabajo  \n",
       "Fecha                                             \n",
       "15/02/2020                              6.000000  \n",
       "22/02/2020                              9.571429  \n",
       "29/02/2020                             10.714286  \n",
       "07/03/2020                             13.000000  \n",
       "14/03/2020                             12.000000  \n",
       "21/03/2020                             -8.714286  \n",
       "28/03/2020                            -69.571429  \n",
       "04/04/2020                            -67.571429  \n",
       "11/04/2020                            -70.571429  \n",
       "18/04/2020                            -64.142857  \n",
       "25/04/2020                            -61.571429  "
      ]
     },
     "execution_count": 520,
     "metadata": {},
     "output_type": "execute_result"
    }
   ],
   "source": [
    "Movility_VCauc_Prom"
   ]
  },
  {
   "cell_type": "code",
   "execution_count": 521,
   "metadata": {},
   "outputs": [],
   "source": [
    "# Time line cases reported [date, cases, accum_cases]\n",
    "Movility_Colombia_Prom_Meta = pd.DataFrame(columns=['Fecha'])\n",
    "Movility_Colombia_Prom_Meta['Fecha'] = [dti.strftime('%d/%m/%Y') for dti in pd.date_range(start='2020-02-15', end='2020-04-25', freq='7D')]"
   ]
  },
  {
   "cell_type": "code",
   "execution_count": 522,
   "metadata": {},
   "outputs": [],
   "source": [
    "google_mobility_Meta=google_mobility_co[google_mobility_co['sub_region_1']=='Meta']"
   ]
  },
  {
   "cell_type": "code",
   "execution_count": 523,
   "metadata": {},
   "outputs": [],
   "source": [
    "# Time line cases reported [date, cases, accum_cases]\n",
    "Movility_Meta_Prom = pd.DataFrame(columns=['Fecha'])\n",
    "Movility_Meta_Prom['Fecha'] = [dti.strftime('%d/%m/%Y') for dti in pd.date_range(start='2020-02-15', end='2020-04-25', freq='7D')]"
   ]
  },
  {
   "cell_type": "code",
   "execution_count": 524,
   "metadata": {},
   "outputs": [],
   "source": [
    "Primer_2=list([google_mobility_Meta['workplaces_percent_change_from_baseline'][i:i+7] for i in range (0,70,7)][0])[0]\n",
    "data_2=[[list([google_mobility_Meta['workplaces_percent_change_from_baseline'][i:i+7].cumsum() for i in range (0,70,7)][i]) for i in range (10)][i][6]/7 for i in range (10)]\n",
    "data_2.insert(0,Primer_2)\n",
    "data_2\n",
    "Movility_Meta_Prom.insert(1,'Cambio Porcentual Asistencia Trabajo',data_2)\n",
    "\n",
    "Primer_3=list([google_mobility_Meta['residential_percent_change_from_baseline'][i:i+7] for i in range (0,70,7)][0])[0]\n",
    "data_3=[[list([google_mobility_Meta['residential_percent_change_from_baseline'][i:i+7].cumsum() for i in range (0,70,7)][i]) for i in range (10)][i][6]/7 for i in range (10)]\n",
    "data_3.insert(0,Primer_3)\n",
    "data_3\n",
    "Movility_Meta_Prom.insert(1,'Cambio Porcentual Permanencia en Casa',data_3)"
   ]
  },
  {
   "cell_type": "code",
   "execution_count": 525,
   "metadata": {},
   "outputs": [],
   "source": [
    "Movility_Meta_Pr = pd.DataFrame(columns=['Fecha','Casos Semana'])\n",
    "Movility_Meta_Pr['Fecha'] = [dti.strftime('%d/%m/%Y') for dti in pd.date_range(start='2020-02-15', end='2020-04-25', freq='7D')]"
   ]
  },
  {
   "cell_type": "code",
   "execution_count": 526,
   "metadata": {},
   "outputs": [],
   "source": [
    "Movility_Meta_Pr['Casos Semana'][0:3]=0\n",
    "Movility_Meta_Pr['Casos Semana'][3]=0\n",
    "Movility_Meta_Pr['Casos Semana'][4]=1\n",
    "Movility_Meta_Pr['Casos Semana'][5]=0\n",
    "Movility_Meta_Pr['Casos Semana'][6]=7\n",
    "Movility_Meta_Pr['Casos Semana'][7]=5\n",
    "Movility_Meta_Pr['Casos Semana'][8]=4\n",
    "Movility_Meta_Pr['Casos Semana'][9]=29\n",
    "Movility_Meta_Pr['Casos Semana'][10]=116"
   ]
  },
  {
   "cell_type": "code",
   "execution_count": 527,
   "metadata": {},
   "outputs": [],
   "source": [
    "Movility_Meta_Prom=Movility_Meta_Prom.set_index('Fecha')\n",
    "Movility_Meta_Pr=Movility_Meta_Pr.set_index('Fecha')"
   ]
  },
  {
   "cell_type": "code",
   "execution_count": 598,
   "metadata": {},
   "outputs": [
    {
     "data": {
      "image/png": "[encoded data removed]",
      "text/plain": [
       "<Figure size 360x504 with 2 Axes>"
      ]
     },
     "metadata": {
      "needs_background": "light"
     },
     "output_type": "display_data"
    }
   ],
   "source": [
    "fig, (ax1, ax2) = plt.subplots(2, 1, figsize=(5,7))\n",
    "Movility_Meta_Prom.plot(ax=ax1) \n",
    "fig.autofmt_xdate()\n",
    "plt.xlabel(\"Fecha\")\n",
    "plt.ylabel(\"Cambio Porcentual\")\n",
    "\n",
    "plt.title('Meta')\n",
    "Movility_Meta_Pr.plot(ax=ax2) \n",
    "fig.autofmt_xdate()\n",
    "plt.xlabel(\"Fecha\")\n",
    "plt.ylabel(\"Casos Nuevos\")\n",
    "plt.show()"
   ]
  },
  {
   "cell_type": "code",
   "execution_count": 529,
   "metadata": {},
   "outputs": [
    {
     "data": {
      "text/html": [
       "<div>\n",
       "<style scoped>\n",
       "    .dataframe tbody tr th:only-of-type {\n",
       "        vertical-align: middle;\n",
       "    }\n",
       "\n",
       "    .dataframe tbody tr th {\n",
       "        vertical-align: top;\n",
       "    }\n",
       "\n",
       "    .dataframe thead th {\n",
       "        text-align: right;\n",
       "    }\n",
       "</style>\n",
       "<table border=\"1\" class=\"dataframe\">\n",
       "  <thead>\n",
       "    <tr style=\"text-align: right;\">\n",
       "      <th></th>\n",
       "      <th>Cambio Porcentual Permanencia en Casa</th>\n",
       "      <th>Cambio Porcentual Asistencia Trabajo</th>\n",
       "    </tr>\n",
       "    <tr>\n",
       "      <th>Fecha</th>\n",
       "      <th></th>\n",
       "      <th></th>\n",
       "    </tr>\n",
       "  </thead>\n",
       "  <tbody>\n",
       "    <tr>\n",
       "      <th>15/02/2020</th>\n",
       "      <td>1.000000</td>\n",
       "      <td>9.000000</td>\n",
       "    </tr>\n",
       "    <tr>\n",
       "      <th>22/02/2020</th>\n",
       "      <td>0.142857</td>\n",
       "      <td>13.000000</td>\n",
       "    </tr>\n",
       "    <tr>\n",
       "      <th>29/02/2020</th>\n",
       "      <td>-0.428571</td>\n",
       "      <td>15.000000</td>\n",
       "    </tr>\n",
       "    <tr>\n",
       "      <th>07/03/2020</th>\n",
       "      <td>-1.285714</td>\n",
       "      <td>17.142857</td>\n",
       "    </tr>\n",
       "    <tr>\n",
       "      <th>14/03/2020</th>\n",
       "      <td>-0.428571</td>\n",
       "      <td>16.000000</td>\n",
       "    </tr>\n",
       "    <tr>\n",
       "      <th>21/03/2020</th>\n",
       "      <td>10.571429</td>\n",
       "      <td>-12.714286</td>\n",
       "    </tr>\n",
       "    <tr>\n",
       "      <th>28/03/2020</th>\n",
       "      <td>31.142857</td>\n",
       "      <td>-63.571429</td>\n",
       "    </tr>\n",
       "    <tr>\n",
       "      <th>04/04/2020</th>\n",
       "      <td>30.571429</td>\n",
       "      <td>-61.857143</td>\n",
       "    </tr>\n",
       "    <tr>\n",
       "      <th>11/04/2020</th>\n",
       "      <td>32.000000</td>\n",
       "      <td>-65.571429</td>\n",
       "    </tr>\n",
       "    <tr>\n",
       "      <th>18/04/2020</th>\n",
       "      <td>30.571429</td>\n",
       "      <td>-58.285714</td>\n",
       "    </tr>\n",
       "    <tr>\n",
       "      <th>25/04/2020</th>\n",
       "      <td>29.714286</td>\n",
       "      <td>-55.857143</td>\n",
       "    </tr>\n",
       "  </tbody>\n",
       "</table>\n",
       "</div>"
      ],
      "text/plain": [
       "            Cambio Porcentual Permanencia en Casa  \\\n",
       "Fecha                                               \n",
       "15/02/2020                               1.000000   \n",
       "22/02/2020                               0.142857   \n",
       "29/02/2020                              -0.428571   \n",
       "07/03/2020                              -1.285714   \n",
       "14/03/2020                              -0.428571   \n",
       "21/03/2020                              10.571429   \n",
       "28/03/2020                              31.142857   \n",
       "04/04/2020                              30.571429   \n",
       "11/04/2020                              32.000000   \n",
       "18/04/2020                              30.571429   \n",
       "25/04/2020                              29.714286   \n",
       "\n",
       "            Cambio Porcentual Asistencia Trabajo  \n",
       "Fecha                                             \n",
       "15/02/2020                              9.000000  \n",
       "22/02/2020                             13.000000  \n",
       "29/02/2020                             15.000000  \n",
       "07/03/2020                             17.142857  \n",
       "14/03/2020                             16.000000  \n",
       "21/03/2020                            -12.714286  \n",
       "28/03/2020                            -63.571429  \n",
       "04/04/2020                            -61.857143  \n",
       "11/04/2020                            -65.571429  \n",
       "18/04/2020                            -58.285714  \n",
       "25/04/2020                            -55.857143  "
      ]
     },
     "execution_count": 529,
     "metadata": {},
     "output_type": "execute_result"
    }
   ],
   "source": [
    "Movility_Meta_Prom"
   ]
  }
 ],
 "metadata": {
  "kernelspec": {
   "display_name": "Python 3",
   "language": "python",
   "name": "python3"
  },
  "language_info": {
   "codemirror_mode": {
    "name": "ipython",
    "version": 3
   },
   "file_extension": ".py",
   "mimetype": "text/x-python",
   "name": "python",
   "nbconvert_exporter": "python",
   "pygments_lexer": "ipython3",
   "version": "3.7.3"
  }
 },
 "nbformat": 4,
 "nbformat_minor": 4
}
